{
 "cells": [
  {
   "cell_type": "markdown",
   "id": "ccd09f18",
   "metadata": {},
   "source": [
    "## 1) Contains Duplicate"
   ]
  },
  {
   "cell_type": "code",
   "execution_count": null,
   "id": "4f8a0baf",
   "metadata": {},
   "outputs": [],
   "source": [
    "hashset =set()\n",
    "for i in nums:\n",
    "    if i in hashset:\n",
    "        return True\n",
    "    hashset.add(i)\n",
    "return False\n"
   ]
  },
  {
   "cell_type": "markdown",
   "id": "69e87dad",
   "metadata": {},
   "source": [
    "* what is set and its functions\n",
    "* Time Complexity\n",
    "* Space Complexity\n",
    "* Which is faster list or set"
   ]
  },
  {
   "cell_type": "markdown",
   "id": "566019ae",
   "metadata": {},
   "source": [
    "## 2) Group Anagrams"
   ]
  },
  {
   "cell_type": "code",
   "execution_count": 1,
   "id": "93e8dade",
   "metadata": {},
   "outputs": [
    {
     "ename": "SyntaxError",
     "evalue": "invalid syntax (1316938023.py, line 1)",
     "output_type": "error",
     "traceback": [
      "\u001b[1;36m  Input \u001b[1;32mIn [1]\u001b[1;36m\u001b[0m\n\u001b[1;33m    * defaultdict: https://realpython.com/python-defaultdict/\u001b[0m\n\u001b[1;37m                 ^\u001b[0m\n\u001b[1;31mSyntaxError\u001b[0m\u001b[1;31m:\u001b[0m invalid syntax\n"
     ]
    }
   ],
   "source": [
    "* defaultdict: https://realpython.com/python-defaultdict/\n",
    "\n",
    "a_dict = {}\n",
    "a_dict['missing_key']\n",
    "a_dict.setdefault('missing_key', 'default value')\n",
    "a_dict['missing_key']"
   ]
  },
  {
   "cell_type": "markdown",
   "id": "234b44ce",
   "metadata": {},
   "source": [
    "* defaultdict: https://realpython.com/python-defaultdict/"
   ]
  },
  {
   "cell_type": "code",
   "execution_count": 2,
   "id": "7bb69beb",
   "metadata": {},
   "outputs": [
    {
     "ename": "SyntaxError",
     "evalue": "invalid syntax (3789229329.py, line 3)",
     "output_type": "error",
     "traceback": [
      "\u001b[1;36m  Input \u001b[1;32mIn [2]\u001b[1;36m\u001b[0m\n\u001b[1;33m    Traceback (most recent call last):\u001b[0m\n\u001b[1;37m                    ^\u001b[0m\n\u001b[1;31mSyntaxError\u001b[0m\u001b[1;31m:\u001b[0m invalid syntax\n"
     ]
    }
   ],
   "source": [
    ">>> a_dict = {}\n",
    ">>> a_dict['missing_key']\n",
    "Traceback (most recent call last):\n",
    "  File \"<stdin>\", line 1, in <module>\n",
    "    a_dict['missing_key']\n",
    "KeyError: 'missing_key'\n",
    ">>> a_dict.setdefault('missing_key', 'default value')\n",
    "'default value'\n",
    ">>> a_dict['missing_key']\n",
    "'default value'\n",
    ">>> a_dict.setdefault('missing_key', 'another default value')\n",
    "'default value'\n",
    ">>> a_dict\n",
    "{'missing_key': 'default value'}"
   ]
  },
  {
   "cell_type": "markdown",
   "id": "f3c27788",
   "metadata": {},
   "source": [
    "##In the above code, you use .setdefault() to generate a default value for missing_key. Notice that your dictionary, a_dict, now has a new key called missing_key whose value is 'default value'. This key didn’t exist before you called .setdefault(). Finally, if you call .setdefault() on an existing key, then the call won’t have any effect on the dictionary. Your key will hold the original value instead of the new default value"
   ]
  },
  {
   "cell_type": "code",
   "execution_count": 3,
   "id": "86f0956a",
   "metadata": {},
   "outputs": [],
   "source": [
    "# from collections import defaultdict\n",
    "# >>> issubclass(defaultdict, dict)\n",
    "# True"
   ]
  },
  {
   "cell_type": "code",
   "execution_count": 4,
   "id": "69046b73",
   "metadata": {},
   "outputs": [],
   "source": [
    "# Correct instantiation\n",
    "# >>> def_dict = defaultdict(list)  # Pass list to .default_factory\n",
    "# >>> def_dict['one'] = 1  # Add a key-value pair\n",
    "# >>> def_dict['missing']  # Access a missing key returns an empty list\n",
    "# []\n",
    "# >>> def_dict['another_missing'].append(4)  # Modify a missing key\n",
    "# >>> def_dict\n",
    "# defaultdict(<class 'list'>, {'one': 1, 'missing': [], 'another_missing': [4]})"
   ]
  },
  {
   "cell_type": "markdown",
   "id": "ecf148e9",
   "metadata": {},
   "source": [
    "## defaultdict"
   ]
  },
  {
   "cell_type": "code",
   "execution_count": 7,
   "id": "99f70434",
   "metadata": {},
   "outputs": [],
   "source": [
    "from collections import defaultdict"
   ]
  },
  {
   "cell_type": "code",
   "execution_count": 13,
   "id": "844979ec",
   "metadata": {},
   "outputs": [
    {
     "data": {
      "text/plain": [
       "[]"
      ]
     },
     "execution_count": 13,
     "metadata": {},
     "output_type": "execute_result"
    }
   ],
   "source": [
    "dict_ = defaultdict(list)\n",
    "dict_[\"one\"] = 4\n",
    "dict_[\"missing\"]"
   ]
  },
  {
   "cell_type": "code",
   "execution_count": 16,
   "id": "d106e2ed",
   "metadata": {},
   "outputs": [
    {
     "ename": "AttributeError",
     "evalue": "'int' object has no attribute 'append'",
     "output_type": "error",
     "traceback": [
      "\u001b[1;31m---------------------------------------------------------------------------\u001b[0m",
      "\u001b[1;31mAttributeError\u001b[0m                            Traceback (most recent call last)",
      "Input \u001b[1;32mIn [16]\u001b[0m, in \u001b[0;36m<cell line: 1>\u001b[1;34m()\u001b[0m\n\u001b[1;32m----> 1\u001b[0m \u001b[43mdict_\u001b[49m\u001b[43m[\u001b[49m\u001b[38;5;124;43m\"\u001b[39;49m\u001b[38;5;124;43mone\u001b[39;49m\u001b[38;5;124;43m\"\u001b[39;49m\u001b[43m]\u001b[49m\u001b[38;5;241;43m.\u001b[39;49m\u001b[43mappend\u001b[49m(\u001b[38;5;241m2\u001b[39m)\n",
      "\u001b[1;31mAttributeError\u001b[0m: 'int' object has no attribute 'append'"
     ]
    }
   ],
   "source": [
    "dict_[\"one\"].append(2)"
   ]
  },
  {
   "cell_type": "code",
   "execution_count": 17,
   "id": "1affec47",
   "metadata": {},
   "outputs": [],
   "source": [
    "dict_[\"missing\"].append(3)"
   ]
  },
  {
   "cell_type": "code",
   "execution_count": 18,
   "id": "5579c405",
   "metadata": {},
   "outputs": [
    {
     "data": {
      "text/plain": [
       "defaultdict(list, {'one': 4, 'missing': [3]})"
      ]
     },
     "execution_count": 18,
     "metadata": {},
     "output_type": "execute_result"
    }
   ],
   "source": [
    "dict_"
   ]
  },
  {
   "cell_type": "code",
   "execution_count": 20,
   "id": "d4f305fd",
   "metadata": {},
   "outputs": [
    {
     "data": {
      "text/plain": [
       "4"
      ]
     },
     "execution_count": 20,
     "metadata": {},
     "output_type": "execute_result"
    }
   ],
   "source": [
    "ord(\"e\") - ord(\"a\")"
   ]
  },
  {
   "cell_type": "code",
   "execution_count": 21,
   "id": "9e55fcef",
   "metadata": {},
   "outputs": [
    {
     "data": {
      "text/plain": [
       "[0, 0, 0, 0, 0, 0, 0, 0, 0, 0, 0, 0, 0, 0, 0, 0, 0, 0, 0, 0, 0, 0, 0, 0, 0, 0]"
      ]
     },
     "execution_count": 21,
     "metadata": {},
     "output_type": "execute_result"
    }
   ],
   "source": [
    "[0]*26"
   ]
  },
  {
   "cell_type": "code",
   "execution_count": 22,
   "id": "a67abafd",
   "metadata": {},
   "outputs": [
    {
     "data": {
      "text/plain": [
       "101"
      ]
     },
     "execution_count": 22,
     "metadata": {},
     "output_type": "execute_result"
    }
   ],
   "source": [
    "ord(\"e\")"
   ]
  },
  {
   "cell_type": "code",
   "execution_count": 23,
   "id": "8220c818",
   "metadata": {},
   "outputs": [
    {
     "data": {
      "text/plain": [
       "97"
      ]
     },
     "execution_count": 23,
     "metadata": {},
     "output_type": "execute_result"
    }
   ],
   "source": [
    "ord(\"a\")"
   ]
  },
  {
   "cell_type": "code",
   "execution_count": 24,
   "id": "190d8187",
   "metadata": {},
   "outputs": [
    {
     "data": {
      "text/plain": [
       "4"
      ]
     },
     "execution_count": 24,
     "metadata": {},
     "output_type": "execute_result"
    }
   ],
   "source": [
    "101 - 97"
   ]
  },
  {
   "cell_type": "code",
   "execution_count": 25,
   "id": "6374ab6e",
   "metadata": {},
   "outputs": [
    {
     "data": {
      "text/plain": [
       "'\\x04'"
      ]
     },
     "execution_count": 25,
     "metadata": {},
     "output_type": "execute_result"
    }
   ],
   "source": [
    "chr(4)"
   ]
  },
  {
   "cell_type": "code",
   "execution_count": 27,
   "id": "8846b287",
   "metadata": {},
   "outputs": [],
   "source": [
    "count = [0] * 26"
   ]
  },
  {
   "cell_type": "code",
   "execution_count": 28,
   "id": "99a8864b",
   "metadata": {},
   "outputs": [
    {
     "data": {
      "text/plain": [
       "0"
      ]
     },
     "execution_count": 28,
     "metadata": {},
     "output_type": "execute_result"
    }
   ],
   "source": [
    "count[0]"
   ]
  },
  {
   "cell_type": "code",
   "execution_count": 29,
   "id": "63408247",
   "metadata": {},
   "outputs": [
    {
     "data": {
      "text/plain": [
       "0"
      ]
     },
     "execution_count": 29,
     "metadata": {},
     "output_type": "execute_result"
    }
   ],
   "source": [
    "count[1]"
   ]
  },
  {
   "cell_type": "code",
   "execution_count": 55,
   "id": "88e088b0",
   "metadata": {},
   "outputs": [],
   "source": [
    "l1 = sorted(\"eat\")"
   ]
  },
  {
   "cell_type": "code",
   "execution_count": 56,
   "id": "903cd07b",
   "metadata": {},
   "outputs": [],
   "source": [
    "l2 = sorted(\"tea\")"
   ]
  },
  {
   "cell_type": "code",
   "execution_count": null,
   "id": "ba449566",
   "metadata": {},
   "outputs": [],
   "source": [
    "[]"
   ]
  },
  {
   "cell_type": "code",
   "execution_count": null,
   "id": "c6331dff",
   "metadata": {},
   "outputs": [],
   "source": [
    "## eat tea tan ate nat bat\n",
    "1 0 0 0 1 0 0 0 0 0 0 0 0 0 0 0 0 0 0 1\n",
    "a b c d e f g h i j k l m n o p q r s t\n",
    "\n",
    "1 0 0 0 1 0 0 0 0 0 0 0 0 0 0 0 0 0 0 1\n",
    "a b c d e f g h i j k l m n o p q r s t\n",
    "\n",
    "1 0 0 0 0 0 0 0 0 0 0 0 0 1 0 0 0 0 0 1\n",
    "a b c d e f g h i j k l m n o p q r s t\n",
    "\n",
    "\n",
    "\n",
    "[].append(\"eat\")\n",
    "res[tuple(1 0 0 0 1 0 0 0 0 0 0 0 0 0 0 0 0 0 0 1)].append(\"eat\")\n",
    "res = {\"1 0 0 0 1 0 0 0 0 0 0 0 0 0 0 0 0 0 0 1\": [\"eat\"]}\n",
    "\n",
    "res[tuple(1 0 0 0 1 0 0 0 0 0 0 0 0 0 0 0 0 0 0 1)].append(\"tea\")\n",
    "res = {\"1 0 0 0 1 0 0 0 0 0 0 0 0 0 0 0 0 0 0 1\": [\"eat\",\"tea\"]}\n",
    "\n",
    "res[tuple(1 0 0 0 0 0 0 0 0 0 0 0 0 1 0 0 0 0 0 1)].append(\"tan\")\n",
    "res = {\"1 0 0 0 1 0 0 0 0 0 0 0 0 0 0 0 0 0 0 1\": [\"eat\",\"tea\"]\n",
    "       \"1 0 0 0 0 0 0 0 0 0 0 0 0 1 0 0 0 0 0 1\":[\"tan\"]}\n",
    "\n",
    "\n",
    "res[tuple(1 0 0 0 1 0 0 0 0 0 0 0 0 0 0 0 0 0 0 1)].append(\"eat\")\n",
    "res = {\"1 0 0 0 1 0 0 0 0 0 0 0 0 0 0 0 0 0 0 1\": [\"eat\",\"tea\",\"ate\"]}\n",
    "\n",
    "\n",
    "\n"
   ]
  },
  {
   "cell_type": "code",
   "execution_count": 30,
   "id": "f3e59813",
   "metadata": {},
   "outputs": [],
   "source": [
    "dict_ = {}\n",
    "dict_[2] = \"two\""
   ]
  },
  {
   "cell_type": "code",
   "execution_count": 31,
   "id": "0b1c95c0",
   "metadata": {},
   "outputs": [
    {
     "data": {
      "text/plain": [
       "'two'"
      ]
     },
     "execution_count": 31,
     "metadata": {},
     "output_type": "execute_result"
    }
   ],
   "source": [
    "dict_.setdefault(2,\"three\")"
   ]
  },
  {
   "cell_type": "code",
   "execution_count": 32,
   "id": "b2e1786f",
   "metadata": {},
   "outputs": [
    {
     "data": {
      "text/plain": [
       "'three'"
      ]
     },
     "execution_count": 32,
     "metadata": {},
     "output_type": "execute_result"
    }
   ],
   "source": [
    "dict_.setdefault(3,\"three\")"
   ]
  },
  {
   "cell_type": "code",
   "execution_count": 33,
   "id": "018781f7",
   "metadata": {},
   "outputs": [
    {
     "data": {
      "text/plain": [
       "{2: 'two', 3: 'three'}"
      ]
     },
     "execution_count": 33,
     "metadata": {},
     "output_type": "execute_result"
    }
   ],
   "source": [
    "dict_"
   ]
  },
  {
   "cell_type": "code",
   "execution_count": 34,
   "id": "aa890841",
   "metadata": {},
   "outputs": [
    {
     "ename": "KeyError",
     "evalue": "4",
     "output_type": "error",
     "traceback": [
      "\u001b[1;31m---------------------------------------------------------------------------\u001b[0m",
      "\u001b[1;31mKeyError\u001b[0m                                  Traceback (most recent call last)",
      "Input \u001b[1;32mIn [34]\u001b[0m, in \u001b[0;36m<cell line: 1>\u001b[1;34m()\u001b[0m\n\u001b[1;32m----> 1\u001b[0m \u001b[43mdict_\u001b[49m\u001b[43m[\u001b[49m\u001b[38;5;241;43m4\u001b[39;49m\u001b[43m]\u001b[49m\n",
      "\u001b[1;31mKeyError\u001b[0m: 4"
     ]
    }
   ],
   "source": [
    "dict_[4]"
   ]
  },
  {
   "cell_type": "code",
   "execution_count": 41,
   "id": "b148019c",
   "metadata": {},
   "outputs": [],
   "source": [
    "def func():\n",
    "    return \"false\""
   ]
  },
  {
   "cell_type": "code",
   "execution_count": 42,
   "id": "2440bcd6",
   "metadata": {},
   "outputs": [],
   "source": [
    "def_dict = defaultdict(func)"
   ]
  },
  {
   "cell_type": "code",
   "execution_count": 44,
   "id": "31e1318f",
   "metadata": {},
   "outputs": [
    {
     "data": {
      "text/plain": [
       "'false'"
      ]
     },
     "execution_count": 44,
     "metadata": {},
     "output_type": "execute_result"
    }
   ],
   "source": [
    "def_dict[\"missing\"]"
   ]
  },
  {
   "cell_type": "code",
   "execution_count": 47,
   "id": "c2ad95c7",
   "metadata": {},
   "outputs": [],
   "source": [
    "t = defaultdict(set)"
   ]
  },
  {
   "cell_type": "code",
   "execution_count": 49,
   "id": "7c1d68c1",
   "metadata": {},
   "outputs": [],
   "source": [
    "t[9].add(4)"
   ]
  },
  {
   "cell_type": "code",
   "execution_count": 50,
   "id": "6640f009",
   "metadata": {},
   "outputs": [
    {
     "data": {
      "text/plain": [
       "defaultdict(set, {9: {4}})"
      ]
     },
     "execution_count": 50,
     "metadata": {},
     "output_type": "execute_result"
    }
   ],
   "source": [
    "t"
   ]
  },
  {
   "cell_type": "code",
   "execution_count": 57,
   "id": "4c897678",
   "metadata": {},
   "outputs": [],
   "source": [
    "list_ = [\"aaa\",\"bb\",\"cccc\"]"
   ]
  },
  {
   "cell_type": "code",
   "execution_count": 58,
   "id": "6f946ed3",
   "metadata": {},
   "outputs": [
    {
     "data": {
      "text/plain": [
       "['bb', 'aaa', 'cccc']"
      ]
     },
     "execution_count": 58,
     "metadata": {},
     "output_type": "execute_result"
    }
   ],
   "source": [
    "sorted(list_,key=len)"
   ]
  },
  {
   "cell_type": "markdown",
   "id": "ef5f813c",
   "metadata": {},
   "source": [
    "## 3) Two Sum"
   ]
  },
  {
   "cell_type": "code",
   "execution_count": null,
   "id": "bf700581",
   "metadata": {},
   "outputs": [],
   "source": [
    "nums = list(map(int,input().split().strip()))\n",
    "target = input()\n",
    "hash_map = {}\n",
    "        for i,val in enumerate(nums):\n",
    "            diff = target - val\n",
    "            if diff in hash_map:\n",
    "                return [hash_map[diff],i]\n",
    "            hash_map[val] = i"
   ]
  },
  {
   "cell_type": "code",
   "execution_count": null,
   "id": "ecc555c5",
   "metadata": {},
   "outputs": [],
   "source": [
    "hashMap = defaultdict(list)\n",
    "#         for i in strs:\n",
    "#             temp = tuple(sorted(i))\n",
    "#             if temp in hashMap:\n",
    "#                 hashMap[tuple(temp)].append(i)\n",
    "#             else:\n",
    "#                 hashMap[tuple(temp)].append(i)\n",
    "#         return hashMap.values()\n",
    "            \n",
    "        res = defaultdict(list)\n",
    "        \n",
    "        for i in strs:\n",
    "            count = [0] * 26\n",
    "            for c in i:\n",
    "                count[ord(c) - ord(\"a\")] += 1\n",
    "            res[tuple(count)].append(i)\n",
    "        return res.values()"
   ]
  },
  {
   "cell_type": "markdown",
   "id": "07ab44e4",
   "metadata": {},
   "source": [
    "## 4) Product of Array Except Self"
   ]
  },
  {
   "cell_type": "code",
   "execution_count": 4,
   "id": "153a16c9",
   "metadata": {},
   "outputs": [
    {
     "name": "stdout",
     "output_type": "stream",
     "text": [
      "1 2 3 4\n",
      "[24, 12, 8, 6]\n"
     ]
    }
   ],
   "source": [
    "nums = list(map(int,input().strip().split()))\n",
    "ans = []\n",
    "res = 1\n",
    "for i in nums:\n",
    "    res = res*i\n",
    "for i in nums:\n",
    "    ans.append(res//i)\n",
    "print(ans)"
   ]
  },
  {
   "cell_type": "markdown",
   "id": "b27c137d",
   "metadata": {},
   "source": [
    "## Solution"
   ]
  },
  {
   "cell_type": "code",
   "execution_count": null,
   "id": "d8d23c0e",
   "metadata": {},
   "outputs": [],
   "source": [
    "output = prefix * postfix\n",
    "prefix = 1\n",
    "postfix = 1\n",
    "        [1 2] 3 [4]  output[i] = prefix[i-1]*postfix[i+1]\n",
    "input      1   2   3   4\n",
    "          -------------->\n",
    "prefix: 1  1   2   6   24    O(n)\n",
    "          <--------------                   \n",
    "postfix:   24  24  12  4   1 O(n)\n",
    "    \n",
    "output     1*24  1*12  2*4  6*1\n",
    "output     24    12    8    6\n",
    "\n",
    "          [1 2 3 4]\n",
    "\n",
    "Soltion\n",
    "\n",
    "prefix of [1 2] is stored at index 3 because it is needed to compute result at index 3    \n",
    "\n",
    "frist we will append the prefix in the output then we will update the prefix\n",
    "\n",
    "from start to end\n",
    "default prefix = 1\n",
    "\n",
    "pre = 1*1 = 1\n",
    "        -------------> \n",
    "      1 1   2   3   4\n",
    "output  1\n",
    "\n",
    "pre = 1*2 = 2 \n",
    "        -------------> \n",
    "      1 1   2   3   4\n",
    "output  1   1\n",
    "\n",
    "pre = 2*3 = 6\n",
    "        -------------> \n",
    "      1 1   2   3   4\n",
    "output  1   1   2\n",
    "\n",
    "pre = 6 * 4 = 24\n",
    "        -------------> \n",
    "      1 1   2   3   4\n",
    "output  1   1   2   6\n",
    "\n",
    "from end to start\n",
    "\n",
    "defalut postfix = 1\n",
    "\n",
    "output  = postfix  * prefix\n",
    "postfix = postfix  * output\n",
    "\n",
    "output[3]  = 1*6 = 6  \n",
    "postfix[3] = 1 * 4 = 4  (visited index 3)\n",
    "\n",
    "output[2]  = 4 * 2 = 8 \n",
    "postfix[3] = 4 * 3 = 12 (visited index 2)\n",
    "\n",
    "output[1]  =  12 * 1 = 12\n",
    "postfix[1] =  12 * 2 = 24\n",
    "\n",
    "output[0]  = 24 * 1 = 24 \n",
    "                <------------\n",
    "                1   2   3   4 1\n",
    "output(prefix)  1   1   2   6\n",
    "output(postfix) 24  12  8   6\n"
   ]
  },
  {
   "cell_type": "code",
   "execution_count": 5,
   "id": "1f4bd221",
   "metadata": {},
   "outputs": [
    {
     "data": {
      "text/plain": [
       "[108, 54, 18, 12, 108]"
      ]
     },
     "execution_count": 5,
     "metadata": {},
     "output_type": "execute_result"
    }
   ],
   "source": [
    "nums = [1,2,6,9,1]\n",
    "pre = 1\n",
    "post = 1\n",
    "out = []\n",
    "for i in range(len(nums)):\n",
    "    out.append(pre)\n",
    "    pre = pre * nums[i]\n",
    "for i in range(len(nums)-1,-1,-1):\n",
    "    out[i] = post * out[i]\n",
    "    post = post * nums[i]\n",
    "out"
   ]
  },
  {
   "cell_type": "markdown",
   "id": "26f08ce2",
   "metadata": {},
   "source": [
    "## 6) Top K Frequent Elements"
   ]
  },
  {
   "cell_type": "code",
   "execution_count": 6,
   "id": "d9af9f15",
   "metadata": {},
   "outputs": [
    {
     "name": "stdout",
     "output_type": "stream",
     "text": [
      "[1, 2, 4]\n"
     ]
    }
   ],
   "source": [
    "freq = {}\n",
    "#         res = []\n",
    "#         flag = 0\n",
    "#         for i in nums:\n",
    "#             freq[i] = 1+ freq.get(i,0)\n",
    "#         freq = sorted(freq.items(),key=lambda x:x[1],reverse=True)\n",
    "        \n",
    "#         for i, val in freq:\n",
    "            \n",
    "#             flag += 1\n",
    "#             if flag > k:\n",
    "#                 break\n",
    "#             res.append(i)\n",
    "#         return res\n",
    "\n",
    "nums = [1,2,1,1,4,1,5]\n",
    "count = [[] for i in range(len(nums)+1)]\n",
    "freq = {}\n",
    "res = []\n",
    "for i in nums:\n",
    "    freq[i] = 1 + freq.get(i,0)\n",
    "for i, val in freq.items():\n",
    "    count[val].append(i)\n",
    "for n in range(len(count)-1,0,-1):\n",
    "    for ele in count[n]:\n",
    "        res.append(ele)\n",
    "        if(len(res) >=k):\n",
    "            print(res)\n",
    "            break"
   ]
  },
  {
   "cell_type": "markdown",
   "id": "509368b8",
   "metadata": {},
   "source": [
    "## 7) Valid Sudoku"
   ]
  },
  {
   "cell_type": "code",
   "execution_count": 41,
   "id": "211878c0",
   "metadata": {},
   "outputs": [
    {
     "name": "stdout",
     "output_type": "stream",
     "text": [
      "\"8\",\"3\",\".\",\".\",\"7\",\".\",\".\",\".\",\".\"\n"
     ]
    },
    {
     "ename": "ValueError",
     "evalue": "invalid literal for int() with base 10: '\"8\"'",
     "output_type": "error",
     "traceback": [
      "\u001b[1;31m---------------------------------------------------------------------------\u001b[0m",
      "\u001b[1;31mValueError\u001b[0m                                Traceback (most recent call last)",
      "Input \u001b[1;32mIn [41]\u001b[0m, in \u001b[0;36m<cell line: 6>\u001b[1;34m()\u001b[0m\n\u001b[0;32m      1\u001b[0m \u001b[38;5;28;01mdef\u001b[39;00m \u001b[38;5;21mfunc\u001b[39m(x):\n\u001b[0;32m      3\u001b[0m     \u001b[38;5;28mprint\u001b[39m(\u001b[38;5;28mint\u001b[39m(x))\n\u001b[1;32m----> 6\u001b[0m inp \u001b[38;5;241m=\u001b[39m [\u001b[38;5;28mlist\u001b[39m(\u001b[38;5;28mmap\u001b[39m(func,\u001b[38;5;28minput\u001b[39m()\u001b[38;5;241m.\u001b[39msplit(\u001b[38;5;124m\"\u001b[39m\u001b[38;5;124m,\u001b[39m\u001b[38;5;124m\"\u001b[39m))) \u001b[38;5;28;01mfor\u001b[39;00m i \u001b[38;5;129;01min\u001b[39;00m \u001b[38;5;28mrange\u001b[39m(\u001b[38;5;241m9\u001b[39m)]\n",
      "Input \u001b[1;32mIn [41]\u001b[0m, in \u001b[0;36m<listcomp>\u001b[1;34m(.0)\u001b[0m\n\u001b[0;32m      1\u001b[0m \u001b[38;5;28;01mdef\u001b[39;00m \u001b[38;5;21mfunc\u001b[39m(x):\n\u001b[0;32m      3\u001b[0m     \u001b[38;5;28mprint\u001b[39m(\u001b[38;5;28mint\u001b[39m(x))\n\u001b[1;32m----> 6\u001b[0m inp \u001b[38;5;241m=\u001b[39m [\u001b[38;5;28;43mlist\u001b[39;49m\u001b[43m(\u001b[49m\u001b[38;5;28;43mmap\u001b[39;49m\u001b[43m(\u001b[49m\u001b[43mfunc\u001b[49m\u001b[43m,\u001b[49m\u001b[38;5;28;43minput\u001b[39;49m\u001b[43m(\u001b[49m\u001b[43m)\u001b[49m\u001b[38;5;241;43m.\u001b[39;49m\u001b[43msplit\u001b[49m\u001b[43m(\u001b[49m\u001b[38;5;124;43m\"\u001b[39;49m\u001b[38;5;124;43m,\u001b[39;49m\u001b[38;5;124;43m\"\u001b[39;49m\u001b[43m)\u001b[49m\u001b[43m)\u001b[49m\u001b[43m)\u001b[49m \u001b[38;5;28;01mfor\u001b[39;00m i \u001b[38;5;129;01min\u001b[39;00m \u001b[38;5;28mrange\u001b[39m(\u001b[38;5;241m9\u001b[39m)]\n",
      "Input \u001b[1;32mIn [41]\u001b[0m, in \u001b[0;36mfunc\u001b[1;34m(x)\u001b[0m\n\u001b[0;32m      1\u001b[0m \u001b[38;5;28;01mdef\u001b[39;00m \u001b[38;5;21mfunc\u001b[39m(x):\n\u001b[1;32m----> 3\u001b[0m     \u001b[38;5;28mprint\u001b[39m(\u001b[38;5;28;43mint\u001b[39;49m\u001b[43m(\u001b[49m\u001b[43mx\u001b[49m\u001b[43m)\u001b[49m)\n",
      "\u001b[1;31mValueError\u001b[0m: invalid literal for int() with base 10: '\"8\"'"
     ]
    }
   ],
   "source": [
    "def func(x):\n",
    "    if x.isdigit:\n",
    "        return x\n",
    "    \n",
    "    \n",
    "        \n",
    "inp = [list(map(func,input().split())) for i in range(9)]"
   ]
  },
  {
   "cell_type": "code",
   "execution_count": 29,
   "id": "87494f60",
   "metadata": {},
   "outputs": [
    {
     "data": {
      "text/plain": [
       "[[-1, -1, -1, -1, -1, -1, -1, -1, -1],\n",
       " [-1],\n",
       " [-1],\n",
       " [-1],\n",
       " [-1],\n",
       " [-1],\n",
       " [-1],\n",
       " [-1],\n",
       " [-1]]"
      ]
     },
     "execution_count": 29,
     "metadata": {},
     "output_type": "execute_result"
    }
   ],
   "source": [
    "inp"
   ]
  },
  {
   "cell_type": "code",
   "execution_count": 47,
   "id": "842067ea",
   "metadata": {},
   "outputs": [
    {
     "name": "stdout",
     "output_type": "stream",
     "text": [
      "\n"
     ]
    }
   ],
   "source": []
  },
  {
   "cell_type": "code",
   "execution_count": null,
   "id": "27af9954",
   "metadata": {},
   "outputs": [],
   "source": [
    "\n",
    "\"8\",\"3\",\".\",\".\",\"7\",\".\",\".\",\".\",\".\"\n",
    "\"6\",\".\",\".\",\"1\",\"9\",\"5\",\".\",\".\",\".\"\n",
    "\".\",\"9\",\"8\",\".\",\".\",\".\",\".\",\"6\",\".\"\n",
    "\"8\",\".\",\".\",\".\",\"6\",\".\",\".\",\".\",\"3\"\n",
    "\"4\",\".\",\".\",\"8\",\".\",\"3\",\".\",\".\",\"1\"\n",
    "\"7\",\".\",\".\",\".\",\"2\",\".\",\".\",\".\",\"6\"\n",
    "\".\",\"6\",\".\",\".\",\".\",\".\",\"2\",\"8\",\".\"\n",
    "\".\",\".\",\".\",\"4\",\"1\",\"9\",\".\",\".\",\"5\"\n",
    "\".\",\".\",\".\",\".\",\"8\",\".\",\".\",\"7\",\"9\""
   ]
  },
  {
   "cell_type": "code",
   "execution_count": null,
   "id": "1e7ded96",
   "metadata": {},
   "outputs": [],
   "source": []
  }
 ],
 "metadata": {
  "kernelspec": {
   "display_name": "Python 3 (ipykernel)",
   "language": "python",
   "name": "python3"
  },
  "language_info": {
   "codemirror_mode": {
    "name": "ipython",
    "version": 3
   },
   "file_extension": ".py",
   "mimetype": "text/x-python",
   "name": "python",
   "nbconvert_exporter": "python",
   "pygments_lexer": "ipython3",
   "version": "3.9.7"
  }
 },
 "nbformat": 4,
 "nbformat_minor": 5
}
