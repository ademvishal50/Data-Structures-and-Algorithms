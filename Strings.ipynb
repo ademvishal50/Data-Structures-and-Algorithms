{
 "cells": [
  {
   "cell_type": "markdown",
   "id": "684bb99c",
   "metadata": {},
   "source": [
    "## 3. Longest Substring Without Repeating Characters"
   ]
  },
  {
   "cell_type": "code",
   "execution_count": 2,
   "id": "9a5f396b",
   "metadata": {},
   "outputs": [
    {
     "name": "stdout",
     "output_type": "stream",
     "text": [
      "dafagsdagsdesva\n",
      "7\n"
     ]
    }
   ],
   "source": [
    "s = input()\n",
    "charSet = set()\n",
    "\n",
    "l = 0\n",
    "res = 0\n",
    "for r in range(len(s)):\n",
    "    if s[r] in charSet:\n",
    "        charSet.remove(s[r])\n",
    "        l += 1\n",
    "    charSet.add(s[r])\n",
    "    res = max(res,r - l + 1)\n",
    "print(res)"
   ]
  },
  {
   "cell_type": "markdown",
   "id": "f282c0d2",
   "metadata": {},
   "source": [
    "## 424. Longest Repeating Character Replacement"
   ]
  },
  {
   "cell_type": "code",
   "execution_count": 9,
   "id": "bcc531e1",
   "metadata": {},
   "outputs": [
    {
     "name": "stdout",
     "output_type": "stream",
     "text": [
      "dsgjhaldsahaaaaa\n",
      "7\n"
     ]
    }
   ],
   "source": [
    "from collections import Counter\n",
    "s = input()\n",
    "print(max(Counter(s).values()))\n",
    "# print(max(res.values()))"
   ]
  },
  {
   "cell_type": "code",
   "execution_count": 16,
   "id": "1be101fa",
   "metadata": {},
   "outputs": [],
   "source": [
    "def max_count(string):\n",
    "            max_ = 0\n",
    "            dict_ = {}\n",
    "            for i in string:\n",
    "                if i in dict_:\n",
    "                    dict_[i] += 1\n",
    "                    max_ = max(max_,dict_[i])\n",
    "                else:\n",
    "                    dict_[i] = 1\n",
    "            return max_"
   ]
  },
  {
   "cell_type": "code",
   "execution_count": 17,
   "id": "c7f1ed76",
   "metadata": {},
   "outputs": [
    {
     "data": {
      "text/plain": [
       "6"
      ]
     },
     "execution_count": 17,
     "metadata": {},
     "output_type": "execute_result"
    }
   ],
   "source": [
    "count = max_count(\"aaabbbaaarrrrrccc\")\n",
    "count"
   ]
  },
  {
   "cell_type": "code",
   "execution_count": 13,
   "id": "1e6b331c",
   "metadata": {},
   "outputs": [
    {
     "name": "stdout",
     "output_type": "stream",
     "text": [
      "AABBAAE\n",
      "2\n",
      "6\n"
     ]
    }
   ],
   "source": [
    "from collections import Counter \n",
    "def max_count(string):\n",
    "\n",
    "s = input()\n",
    "k = int(input())\n",
    "l=0\n",
    "res = 0\n",
    "\n",
    "for r in range(len(s)):\n",
    "    if(((r-l+1) - max_count(s[l:r+1])) <= k):\n",
    "        res = max(r-l+1,res)\n",
    "        continue\n",
    "    l+=1\n",
    "print(res)"
   ]
  },
  {
   "cell_type": "code",
   "execution_count": 28,
   "id": "72f3b8cf",
   "metadata": {},
   "outputs": [
    {
     "name": "stdout",
     "output_type": "stream",
     "text": [
      "KJRGKSKKOKLPADMAGODEDNEBMJMKGAPNLSAKADRLHHDRMJTMFBSIQGHENKABISHQNRFJKEPMFIPNDNEOBRJEHFLIHMDLMCIHLHQN\n",
      "5\n",
      "10\n"
     ]
    }
   ],
   "source": [
    "def max_count(string):\n",
    "        max_ = 0\n",
    "        dict_ = {}\n",
    "        for i in string:\n",
    "            if i in dict_:\n",
    "                dict_[i] += 1\n",
    "                \n",
    "                max_ = max(max_,dict_[i])\n",
    "            else:\n",
    "                dict_[i] = 1\n",
    "                max_ = max(max_,dict_[i])\n",
    "        return max_\n",
    "\n",
    "s = input()\n",
    "k = int(input())\n",
    "l=0\n",
    "res = 0\n",
    "\n",
    "for r in range(len(s)):\n",
    "    if(((r-l+1) - max_count(s[l:r+1])) <= k):\n",
    "        res = max(r-l+1,res)\n",
    "        continue\n",
    "    l+=1\n",
    "print(res)"
   ]
  },
  {
   "cell_type": "code",
   "execution_count": 22,
   "id": "a48c0f85",
   "metadata": {},
   "outputs": [
    {
     "data": {
      "text/plain": [
       "3"
      ]
     },
     "execution_count": 22,
     "metadata": {},
     "output_type": "execute_result"
    }
   ],
   "source": [
    "max_count(\"ABBAA\")"
   ]
  },
  {
   "cell_type": "markdown",
   "id": "0f312413",
   "metadata": {},
   "source": [
    "## Group Anagrams"
   ]
  },
  {
   "cell_type": "code",
   "execution_count": 7,
   "id": "44987709",
   "metadata": {},
   "outputs": [
    {
     "name": "stdout",
     "output_type": "stream",
     "text": [
      "df dfe dga egse df fd edf\n",
      "dict_values([['df', 'df', 'fd'], ['dfe', 'edf'], ['dga'], ['egse']])\n"
     ]
    }
   ],
   "source": [
    "strs = list(map(str,input().split()))\n",
    "res = defaultdict(list) # mapping charCount to list of anagrams\n",
    "for s in strs:\n",
    "    count = [0] * 26 # a....z\n",
    "    for c in s:\n",
    "        count[ord(c) - ord('a')] += 1\n",
    "    res[tuple(count)].append(s)\n",
    "print(res.values())"
   ]
  },
  {
   "cell_type": "code",
   "execution_count": 9,
   "id": "aa276907",
   "metadata": {},
   "outputs": [
    {
     "name": "stdout",
     "output_type": "stream",
     "text": [
      "aaa\n",
      "6\n"
     ]
    }
   ],
   "source": [
    "s = input()\n",
    "count = 0\n",
    "for i in range(len(s)):\n",
    "    l, r = i, i\n",
    "    while(l>=0 and r<len(s) and s[l] == s[r]):\n",
    "#         list_.append(s[l:r+1])\n",
    "        count += 1\n",
    "        l -= 1\n",
    "        r += 1\n",
    "    l,r = i,i+1\n",
    "    while(l>=0 and r<len(s) and s[l]==s[r]):\n",
    "#         list_.append(s[l:r+1])\n",
    "        count += 1\n",
    "        l-=1\n",
    "        r+=1\n",
    "    \n",
    "    \n",
    "print(count)"
   ]
  },
  {
   "cell_type": "markdown",
   "id": "be2a55ac",
   "metadata": {},
   "source": [
    "## Next Permutation"
   ]
  },
  {
   "cell_type": "code",
   "execution_count": null,
   "id": "76c5e61e",
   "metadata": {},
   "outputs": [],
   "source": [
    "pivot = 0\n",
    "i = len(arr)-1\n",
    "j = 0\n",
    "flag = False\n",
    "while (arr[i] <= arr[i-1]):\n",
    "    pivot = arr[i-1]\n",
    "    i -= 1\n",
    "    if i == 0:\n",
    "        flag = True\n",
    "        break\n",
    "pivot = arr[i-1]\n",
    "mini = min(arr[i::])\n",
    "if flag:\n",
    "    arr = arr[::-1]\n",
    "else:\n",
    "    for j in range(len(arr)-1, i-1, -1):\n",
    "        if arr[j] > pivot:\n",
    "            mini = arr[j]\n",
    "            break\n",
    "    arr[i-1], arr[j] = arr[j], arr[i-1]\n",
    "    arr[i:] = arr[i:][::-1]\n",
    "print(arr)\n"
   ]
  },
  {
   "cell_type": "markdown",
   "id": "7cbb1f08",
   "metadata": {},
   "source": [
    "## Longest Pallindromic Subsequences"
   ]
  },
  {
   "cell_type": "code",
   "execution_count": 9,
   "id": "f31de1b5",
   "metadata": {},
   "outputs": [
    {
     "name": "stdout",
     "output_type": "stream",
     "text": [
      "aaaa\n",
      "10\n"
     ]
    }
   ],
   "source": [
    "string = input()\n",
    "\n",
    "count = 0\n",
    "list_ = []\n",
    "length = len(string)\n",
    "for i in range(length):\n",
    "    # odd substrings\n",
    "    l = r = i\n",
    "    while(l >= 0 and r < length and string[l] == string[r]):\n",
    "#         list_.append(string[l:r+1])\n",
    "        count += 1\n",
    "        l-=1\n",
    "        r+=1\n",
    "    # even substrings\n",
    "    l, r = i, i+1\n",
    "    while(l>=0 and r<length and string[l] == string[r] ):\n",
    "#         list_.append(string[l:r+1])\n",
    "        count += 1\n",
    "        l -= 1\n",
    "        r += 1\n",
    "print(count)"
   ]
  },
  {
   "cell_type": "code",
   "execution_count": 10,
   "id": "59bed9e4",
   "metadata": {},
   "outputs": [
    {
     "name": "stdout",
     "output_type": "stream",
     "text": [
      "Total palindromic subsequence are :  15\n"
     ]
    }
   ],
   "source": [
    "\n",
    "def countPS(str):\n",
    " \n",
    "    N = len(str)\n",
    " \n",
    "    # Create a 2D array to store the count\n",
    "    # of palindromic subsequence\n",
    "    cps = [[0 for i in range(N + 2)]for j in range(N + 2)]\n",
    " \n",
    "    # palindromic subsequence of length 1\n",
    "    for i in range(N):\n",
    "        cps[i][i] = 1\n",
    " \n",
    "    # check subsequence of length L\n",
    "    # is palindrome or not\n",
    "    for L in range(2, N + 1):\n",
    " \n",
    "        for i in range(N):\n",
    "            k = L + i - 1\n",
    "            if (k < N):\n",
    "                if (str[i] == str[k]):\n",
    "                    cps[i][k] = (cps[i][k - 1] +\n",
    "                                 cps[i + 1][k] + 1)\n",
    "                else:\n",
    "                    cps[i][k] = (cps[i][k - 1] +\n",
    "                                 cps[i + 1][k] -\n",
    "                                 cps[i + 1][k - 1])\n",
    " \n",
    "    # return total palindromic subsequence\n",
    "    return cps[0][N-1]\n",
    " \n",
    " \n",
    "# Driver program\n",
    "str = \"aaaa\"\n",
    "print(\"Total palindromic subsequence are : \", countPS(str))"
   ]
  },
  {
   "cell_type": "code",
   "execution_count": 20,
   "id": "8df6a8a3",
   "metadata": {},
   "outputs": [
    {
     "name": "stdout",
     "output_type": "stream",
     "text": [
      "abcba\n",
      "['ab', 'ac', 'ab', 'aa', 'abc', 'abb', 'aba', 'abcb', 'abca', 'abcba', 'bc', 'bb', 'ba', 'bcb', 'bca', 'bcba', 'cb', 'ca', 'cba', 'ba']\n"
     ]
    }
   ],
   "source": [
    "string = input()\n",
    "\n",
    "# list_ = []\n",
    "\n",
    "# for i in range(len(string)):\n",
    "#     for j in range(i+1,len(string)):\n",
    "#         list_.append(string[i]+string[j])\n",
    "# for i in range(len(string)):\n",
    "#     for j in range(len(string)):\n",
    "#         set_.add(string[i:j])\n",
    "\n",
    "#         list_.append(string[i:j+1])\n",
    "# def substrings(string):\n",
    "\n",
    "#     list_ = []\n",
    "#     for k in range(len(string)):\n",
    "# #         temp = string[k]\n",
    "#         for i in range(k,len(string)):\n",
    "#             temp = string[k:i+1]\n",
    "#             for j in range(i+1,len(string)):\n",
    "#                 list_.append(temp+string[j])\n",
    "#     return list_\n",
    "# l = substrings(string)\n",
    "# print(l)\n",
    "# for i in range(len(string)):\n",
    "#     list_.append(string[i])\n",
    "#     for j in range(i+1,len(string)):\n",
    "#         list_.append(string[i]+string[j])\n",
    "# print(list_)\n",
    "i = j = 0\n",
    "while(i<len(string)):\n",
    "    \n",
    "    "
   ]
  },
  {
   "cell_type": "code",
   "execution_count": 26,
   "id": "da6f2564",
   "metadata": {},
   "outputs": [
    {
     "data": {
      "text/plain": [
       "8"
      ]
     },
     "execution_count": 26,
     "metadata": {},
     "output_type": "execute_result"
    }
   ],
   "source": [
    "1 << 3"
   ]
  },
  {
   "cell_type": "markdown",
   "id": "e9a4b583",
   "metadata": {},
   "source": [
    "## Count Number of Pallindromic Subsequences"
   ]
  },
  {
   "cell_type": "code",
   "execution_count": 9,
   "id": "8adb3a4e",
   "metadata": {},
   "outputs": [
    {
     "name": "stdout",
     "output_type": "stream",
     "text": [
      "abccbc\n",
      "[None, None, None, None, None, None]\n",
      "[None, None, None, None, None, None]\n",
      "[None, None, None, None, None, None]\n",
      "[None, None, None, None, None, None]\n",
      "[None, None, None, None, None, None]\n",
      "[None, None, None, None, None, None]\n",
      "[1, 2, 3, 5, 10, 16]\n",
      "[None, 1, 2, 4, 9, 15]\n",
      "[None, None, 1, 3, 4, 10]\n",
      "[None, None, None, 1, 2, 5]\n",
      "[None, None, None, None, 1, 2]\n",
      "[None, None, None, None, None, 1]\n",
      "16\n"
     ]
    }
   ],
   "source": [
    "s = input()\n",
    "arr = [[None for i in range(len(s))] for j in range(len(s))]\n",
    "for i in arr:\n",
    "    print(i)\n",
    "for g in range(len(s)):\n",
    "    i, j = 0, g\n",
    "    while j < len(s):\n",
    "        if g == 0:\n",
    "            arr[i][j] = 1\n",
    "        elif g == 1:\n",
    "            arr[i][j] = 3 if s[i] == s[j] else 2\n",
    "        else:\n",
    "            if s[i] == s[j]:\n",
    "                arr[i][j] = arr[i][j-1] + arr[i+1][j] + 1\n",
    "                \n",
    "            else:\n",
    "                arr[i][j] = arr[i][j-1] + arr[i+1][j] - arr[i+1][j-1]\n",
    "        i += 1\n",
    "        j += 1\n",
    "for i in arr:\n",
    "    print(i)\n",
    "\n",
    "print(arr[0][len(s)-1])"
   ]
  },
  {
   "cell_type": "markdown",
   "id": "701e2f12",
   "metadata": {},
   "source": [
    "## Sign-in Sign-out"
   ]
  },
  {
   "cell_type": "code",
   "execution_count": 9,
   "id": "253daabc",
   "metadata": {},
   "outputs": [
    {
     "name": "stdout",
     "output_type": "stream",
     "text": [
      "[50, 60]\n"
     ]
    }
   ],
   "source": [
    "logs = [\"30 1 sign-in\",\"40 4 sign-in\",\"30 10 sign-out\",\"50 5 sign-in\",\"60 9 sign-in\",\"40 12 sign-out\",\"50 15 sign-out\",\"60 20 sign-out\"]\n",
    "maxTime = 10\n",
    "table = {}\n",
    "res = []\n",
    "uid = list(set([int(x.split()[0]) for x in logs]))\n",
    "for i in uid:\n",
    "    table[i] = [int(x.split()[1]) for x in logs if int(x.split()[0]) == i]\n",
    "    table[i].append(table[i][1] - table[i][0])\n",
    "for key,val in table.items():\n",
    "    if val[2] >= maxTime:\n",
    "        res.append(key)\n",
    "print(res)"
   ]
  },
  {
   "cell_type": "code",
   "execution_count": 10,
   "id": "26898e9a",
   "metadata": {},
   "outputs": [
    {
     "name": "stdout",
     "output_type": "stream",
     "text": [
      "3 2\n",
      "a\n",
      "b\n",
      "a\n",
      "a\n",
      "c\n",
      "[1, 3]\n",
      "-1\n"
     ]
    }
   ],
   "source": [
    "from collections import defaultdict\n",
    "n, m = list(map(int,input().strip().split()))\n",
    "a = []\n",
    "b = []\n",
    "d = defaultdict(list)\n",
    "\n",
    "while n > 0:\n",
    "    a.append(input())\n",
    "    n -= 1\n",
    "while m > 0:\n",
    "    b.append(input())\n",
    "    m -= 1\n",
    "for ind,val in enumerate(a):\n",
    "    d[val].append(ind+1)\n",
    "for i in b:\n",
    "    print(d.get(i,-1))"
   ]
  },
  {
   "cell_type": "code",
   "execution_count": null,
   "id": "f2824a3e",
   "metadata": {},
   "outputs": [],
   "source": []
  }
 ],
 "metadata": {
  "kernelspec": {
   "display_name": "Python 3 (ipykernel)",
   "language": "python",
   "name": "python3"
  },
  "language_info": {
   "codemirror_mode": {
    "name": "ipython",
    "version": 3
   },
   "file_extension": ".py",
   "mimetype": "text/x-python",
   "name": "python",
   "nbconvert_exporter": "python",
   "pygments_lexer": "ipython3",
   "version": "3.9.7"
  }
 },
 "nbformat": 4,
 "nbformat_minor": 5
}
