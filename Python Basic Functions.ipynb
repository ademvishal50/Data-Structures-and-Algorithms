{
 "cells": [
  {
   "cell_type": "code",
   "execution_count": null,
   "id": "74f6341b",
   "metadata": {},
   "outputs": [],
   "source": [
    "sorted() vs list.sort()\n",
    "[] - list comprehension --> [expression for item in list]\n",
    "() - tuple comprehension --> values = tuple(elem for elem in iterable)  ## https://www.codingem.com/python-tuple-comprehension/\n",
    "set() - set compreshension --> newSet= { expression for element in  iterable } "
   ]
  },
  {
   "cell_type": "code",
   "execution_count": null,
   "id": "70982f71",
   "metadata": {},
   "outputs": [],
   "source": [
    "https://www.analyticsvidhya.com/blog/2021/07/everything-you-should-know-about-iterables-and-iterators-in-python-as-a-data-scientist/"
   ]
  }
 ],
 "metadata": {
  "kernelspec": {
   "display_name": "Python 3 (ipykernel)",
   "language": "python",
   "name": "python3"
  },
  "language_info": {
   "codemirror_mode": {
    "name": "ipython",
    "version": 3
   },
   "file_extension": ".py",
   "mimetype": "text/x-python",
   "name": "python",
   "nbconvert_exporter": "python",
   "pygments_lexer": "ipython3",
   "version": "3.9.7"
  }
 },
 "nbformat": 4,
 "nbformat_minor": 5
}
