{
 "cells": [
  {
   "cell_type": "markdown",
   "id": "c8d7a64a",
   "metadata": {},
   "source": [
    "## Climbing Stairs"
   ]
  },
  {
   "cell_type": "code",
   "execution_count": 1,
   "id": "51f56fd3",
   "metadata": {},
   "outputs": [
    {
     "name": "stdout",
     "output_type": "stream",
     "text": [
      "5\n",
      "8\n"
     ]
    }
   ],
   "source": [
    "n = int(input())\n",
    "one, two = 1, 1\n",
    "\n",
    "for i in range(n-1):\n",
    "    temp = one\n",
    "    one = one + two\n",
    "    two = temp\n",
    "print(one)"
   ]
  },
  {
   "cell_type": "markdown",
   "id": "b0a59067",
   "metadata": {},
   "source": [
    "## Min Cost Climbing Stairs"
   ]
  },
  {
   "cell_type": "code",
   "execution_count": null,
   "id": "6fb545e0",
   "metadata": {},
   "outputs": [],
   "source": []
  },
  {
   "cell_type": "markdown",
   "id": "fd63bcef",
   "metadata": {},
   "source": [
    "## Target Sun"
   ]
  },
  {
   "cell_type": "code",
   "execution_count": null,
   "id": "8f12e698",
   "metadata": {},
   "outputs": [],
   "source": []
  },
  {
   "cell_type": "markdown",
   "id": "997f2aa9",
   "metadata": {},
   "source": [
    "## Word Break"
   ]
  },
  {
   "cell_type": "code",
   "execution_count": null,
   "id": "5eae4ed8",
   "metadata": {},
   "outputs": [],
   "source": []
  }
 ],
 "metadata": {
  "kernelspec": {
   "display_name": "Python 3 (ipykernel)",
   "language": "python",
   "name": "python3"
  },
  "language_info": {
   "codemirror_mode": {
    "name": "ipython",
    "version": 3
   },
   "file_extension": ".py",
   "mimetype": "text/x-python",
   "name": "python",
   "nbconvert_exporter": "python",
   "pygments_lexer": "ipython3",
   "version": "3.9.7"
  }
 },
 "nbformat": 4,
 "nbformat_minor": 5
}
