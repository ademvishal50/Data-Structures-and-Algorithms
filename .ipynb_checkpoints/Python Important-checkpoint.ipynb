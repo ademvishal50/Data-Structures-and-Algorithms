{
 "cells": [
  {
   "cell_type": "markdown",
   "id": "81cc3b58",
   "metadata": {},
   "source": [
    "## Explanation"
   ]
  },
  {
   "cell_type": "code",
   "execution_count": 1,
   "id": "f72da594",
   "metadata": {},
   "outputs": [
    {
     "ename": "SyntaxError",
     "evalue": "invalid syntax (1162249337.py, line 1)",
     "output_type": "error",
     "traceback": [
      "\u001b[1;36m  Input \u001b[1;32mIn [1]\u001b[1;36m\u001b[0m\n\u001b[1;33m    sorted() vs list.sort()\u001b[0m\n\u001b[1;37m             ^\u001b[0m\n\u001b[1;31mSyntaxError\u001b[0m\u001b[1;31m:\u001b[0m invalid syntax\n"
     ]
    }
   ],
   "source": [
    "sorted() vs list.sort()\n",
    "[] - list comprehension --> [expression for item in list]\n",
    "() - tuple comprehension --> values = tuple(elem for elem in iterable)  ## https://www.codingem.com/python-tuple-comprehension/\n",
    "{} - dict comprehension --> dictionary = {key: value for vars in iterable}\n",
    "set() - set compreshension --> newSet= { expression for element in  iterable } "
   ]
  },
  {
   "cell_type": "code",
   "execution_count": null,
   "id": "9e7dfd07",
   "metadata": {},
   "outputs": [],
   "source": [
    "iterables - https://www.analyticsvidhya.com/blog/2021/07/everything-you-should-know-about-iterables-and-iterators-in-python-as-a-data-scientist/\n"
   ]
  }
 ],
 "metadata": {
  "kernelspec": {
   "display_name": "Python 3 (ipykernel)",
   "language": "python",
   "name": "python3"
  },
  "language_info": {
   "codemirror_mode": {
    "name": "ipython",
    "version": 3
   },
   "file_extension": ".py",
   "mimetype": "text/x-python",
   "name": "python",
   "nbconvert_exporter": "python",
   "pygments_lexer": "ipython3",
   "version": "3.9.7"
  }
 },
 "nbformat": 4,
 "nbformat_minor": 5
}
