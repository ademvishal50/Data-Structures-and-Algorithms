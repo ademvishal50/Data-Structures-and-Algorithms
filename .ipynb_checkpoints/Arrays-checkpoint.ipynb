{
 "cells": [
  {
   "cell_type": "code",
   "execution_count": 1,
   "id": "ab54688d",
   "metadata": {},
   "outputs": [],
   "source": [
    "arr = [1,5,3,4,3,5,6,5,5]"
   ]
  },
  {
   "cell_type": "code",
   "execution_count": 2,
   "id": "cac96a0b",
   "metadata": {},
   "outputs": [
    {
     "data": {
      "text/plain": [
       "{1: 1, 5: 4, 3: 2, 4: 1, 6: 1}"
      ]
     },
     "execution_count": 2,
     "metadata": {},
     "output_type": "execute_result"
    }
   ],
   "source": [
    "d = {key:arr.count(key) for key in arr}\n",
    "d"
   ]
  },
  {
   "cell_type": "code",
   "execution_count": 3,
   "id": "6ab8065b",
   "metadata": {},
   "outputs": [
    {
     "data": {
      "text/plain": [
       "5"
      ]
     },
     "execution_count": 3,
     "metadata": {},
     "output_type": "execute_result"
    }
   ],
   "source": [
    "len(d)"
   ]
  },
  {
   "cell_type": "code",
   "execution_count": 4,
   "id": "d8cf2287",
   "metadata": {},
   "outputs": [],
   "source": [
    "l = max(d.values())"
   ]
  },
  {
   "cell_type": "code",
   "execution_count": 5,
   "id": "660b7c73",
   "metadata": {},
   "outputs": [
    {
     "name": "stdout",
     "output_type": "stream",
     "text": [
      "1\n"
     ]
    }
   ],
   "source": [
    "for key,val in d.items():\n",
    "    if l==val:\n",
    "        print(arr.index(key))"
   ]
  },
  {
   "cell_type": "code",
   "execution_count": 6,
   "id": "d0743d6c",
   "metadata": {},
   "outputs": [
    {
     "data": {
      "text/plain": [
       "4"
      ]
     },
     "execution_count": 6,
     "metadata": {},
     "output_type": "execute_result"
    }
   ],
   "source": [
    "l"
   ]
  },
  {
   "cell_type": "code",
   "execution_count": 7,
   "id": "e78c8fdd",
   "metadata": {},
   "outputs": [
    {
     "name": "stdout",
     "output_type": "stream",
     "text": [
      "-1\n"
     ]
    }
   ],
   "source": [
    "\n",
    "arr= [1,2,3,4]\n",
    "d = {key:arr.count(key) for key in arr}\n",
    "l = max(d.values())\n",
    "i = 0\n",
    "for key,val in d.items():\n",
    "    if l==val:\n",
    "        i = arr.index(key)\n",
    "        break\n",
    "print(i if i else -1)"
   ]
  },
  {
   "cell_type": "code",
   "execution_count": 8,
   "id": "6432cc31",
   "metadata": {},
   "outputs": [
    {
     "name": "stdout",
     "output_type": "stream",
     "text": [
      "{-1: 2, -17: 3, -12: 2, 8: 1, 16: 1, -13: 1, -14: 1, -3: 1, -6: 1, -5: 3, -11: 1, -10: 1, 19: 1, 12: 1}\n",
      "8\n"
     ]
    }
   ],
   "source": [
    "arr = [-1, -17, -12, 8, 16, -17, -13, -14, -3 ,-6, -5, -11, -10 ,-12, -5 ,19 ,-17, -5, -1, 12]\n",
    "d = {key:arr.count(key) for key in arr}\n",
    "x = 0\n",
    "print(d)\n",
    "\n",
    "for key,val in d.items():\n",
    "    if val == 1:\n",
    "        print(key)\n",
    "        break\n",
    "# print(max(l) if l else 0)"
   ]
  },
  {
   "cell_type": "code",
   "execution_count": 9,
   "id": "44af2540",
   "metadata": {},
   "outputs": [
    {
     "name": "stdout",
     "output_type": "stream",
     "text": [
      "8\n"
     ]
    }
   ],
   "source": [
    "arr = [-1, -17, -12, 8, 16, -17, -13, -14, -3 ,-6, -5, -11, -10 ,-12, -5 ,19 ,-17, -5, -1, 12]\n",
    "d = {key:arr.count(key) for key in arr}\n",
    "x = 0\n",
    "for key,val in d.items():\n",
    "    if val == 1:\n",
    "        x = key\n",
    "        break\n",
    "if x != 0:\n",
    "    print(x)\n",
    "else:\n",
    "    print(x)"
   ]
  },
  {
   "cell_type": "markdown",
   "id": "e6f818f1",
   "metadata": {},
   "source": [
    "## Subarrays with equal 1's and 0's"
   ]
  },
  {
   "cell_type": "code",
   "execution_count": 1,
   "id": "bb0ee0a8",
   "metadata": {},
   "outputs": [
    {
     "name": "stdout",
     "output_type": "stream",
     "text": [
      "8\n"
     ]
    }
   ],
   "source": [
    "s = 0\n",
    "count = 0\n",
    "d = {}\n",
    "arr = [1, 0, 0, 1, 0, 1, 1]\n",
    "for i in range(len(arr)):\n",
    "    if arr[i] == 0:\n",
    "        arr[i] = -1\n",
    "    s += arr[i]\n",
    "    if s == 0:\n",
    "        count += 1\n",
    "    if s in d:\n",
    "        count += d[s]\n",
    "    if s not in d:\n",
    "        d[s] = 1\n",
    "    else:\n",
    "        d[s] += 1\n",
    "print(count)"
   ]
  },
  {
   "cell_type": "code",
   "execution_count": 11,
   "id": "4bab2f59",
   "metadata": {},
   "outputs": [
    {
     "name": "stdout",
     "output_type": "stream",
     "text": [
      "False\n"
     ]
    }
   ],
   "source": [
    "arr = [1,1,1,1,1,1]\n",
    "arr = [0,1,0,0]\n",
    "if all(arr):\n",
    "    print(True)\n",
    "else:\n",
    "    print(False)"
   ]
  },
  {
   "cell_type": "code",
   "execution_count": 12,
   "id": "4bfbc29d",
   "metadata": {},
   "outputs": [
    {
     "name": "stdout",
     "output_type": "stream",
     "text": [
      "True\n"
     ]
    }
   ],
   "source": [
    "arr = [1,1,1,1]\n",
    "result = all([element == arr[0] for element in arr])\n",
    "print(result)"
   ]
  },
  {
   "cell_type": "code",
   "execution_count": 13,
   "id": "2ea43a3b",
   "metadata": {},
   "outputs": [],
   "source": [
    "s = 0\n",
    "count = 0\n",
    "d = {}\n",
    "arr = [1, 0, 0, 1, 0, 1, 1]\n",
    "if all([element == arr[0] for element in arr]):\n",
    "    print(count)"
   ]
  },
  {
   "cell_type": "markdown",
   "id": "e14c623b",
   "metadata": {},
   "source": [
    "## Alternate positive and negative numbers"
   ]
  },
  {
   "cell_type": "code",
   "execution_count": 3,
   "id": "28b3f355",
   "metadata": {},
   "outputs": [
    {
     "name": "stdout",
     "output_type": "stream",
     "text": [
      "[-4, 2, -1, 3, -9, 6]\n"
     ]
    }
   ],
   "source": [
    "arr = [2,3,-4,-1,6,-9]\n",
    "arr1 = [None for i in range(len(arr))]\n",
    "n = len(arr)\n",
    "i,j = 0,1\n",
    "k = 0\n",
    "while(k < n):\n",
    "    if arr[k] < 0:\n",
    "        arr1[i] = arr[k]\n",
    "        i += 2\n",
    "        k += 1\n",
    "    else:\n",
    "        arr1[j] = arr[k]\n",
    "        j += 2\n",
    "        k += 1\n",
    "print(arr1)"
   ]
  },
  {
   "cell_type": "code",
   "execution_count": null,
   "id": "cf2c6109",
   "metadata": {},
   "outputs": [],
   "source": [
    "arr = [2,3,-4,-1,6,-9]\n",
    "for i in range(len(arr)):\n",
    "    if i % 2 == 0:\n",
    "        if arr[i] < 0:\n",
    "            continue\n",
    "        else:\n",
    "            \n",
    "    else:\n",
    "        "
   ]
  },
  {
   "cell_type": "code",
   "execution_count": 15,
   "id": "5c749286",
   "metadata": {},
   "outputs": [
    {
     "name": "stdout",
     "output_type": "stream",
     "text": [
      "[9, -2, 4, 5, 0, 2]\n",
      "[9, -2, 4, -1, 5, 0, 2]\n"
     ]
    }
   ],
   "source": [
    "i = 0\n",
    "arr4 = arr2.copy()\n",
    "for index,element in enumerate(arr2):\n",
    "    if index%2 != 0:\n",
    "        arr4.insert(index,arr1[i])\n",
    "        print(arr4)\n",
    "        i += 1\n",
    "    "
   ]
  },
  {
   "cell_type": "code",
   "execution_count": 22,
   "id": "3cff0072",
   "metadata": {
    "scrolled": true
   },
   "outputs": [
    {
     "name": "stdout",
     "output_type": "stream",
     "text": [
      "[9, -1, 5, -3, None, None, None, None, None, None, None, None, None]\n"
     ]
    }
   ],
   "source": [
    "arr3 = [None for i in range(len(arr1)+len(arr2))]\n",
    "index = 0\n",
    "for i, j in zip(arr1,arr2):\n",
    "    if index%2 == 0:\n",
    "        arr3.insert(index,j)\n",
    "    else:\n",
    "        arr3.insert(index,i)\n",
    "    index+=1\n",
    "print(arr3)"
   ]
  },
  {
   "cell_type": "code",
   "execution_count": 23,
   "id": "06d5747f",
   "metadata": {},
   "outputs": [
    {
     "data": {
      "text/plain": [
       "[9, -1, 5, -3, None, None, None, None, None, None, None, None, None]"
      ]
     },
     "execution_count": 23,
     "metadata": {},
     "output_type": "execute_result"
    }
   ],
   "source": [
    "arr3"
   ]
  },
  {
   "cell_type": "code",
   "execution_count": 24,
   "id": "0b783a1b",
   "metadata": {},
   "outputs": [
    {
     "name": "stdout",
     "output_type": "stream",
     "text": [
      "Enter the list:2 3 5  7\n",
      "17\n",
      "[2, 3, 5, 7]\n"
     ]
    }
   ],
   "source": [
    "l = list(map(int, input(\"Enter the list:\").split()))\n",
    "dup = []\n",
    "curSum = 0\n",
    "maxSum = 0\n",
    "for i in range(len(l)):\n",
    "    curSum += l[i]\n",
    "    dup.append(l[i])\n",
    "    if curSum > maxSum:\n",
    "        \n",
    "        maxSum = curSum\n",
    "    if curSum < 0:\n",
    "        curSum = 0\n",
    "        dup = []\n",
    "print(maxSum)\n",
    "print(dup)"
   ]
  },
  {
   "cell_type": "code",
   "execution_count": 25,
   "id": "c6dee014",
   "metadata": {},
   "outputs": [
    {
     "name": "stdout",
     "output_type": "stream",
     "text": [
      "17\n"
     ]
    }
   ],
   "source": [
    "print(sum(dup))"
   ]
  },
  {
   "cell_type": "code",
   "execution_count": 26,
   "id": "8cf2acd8",
   "metadata": {},
   "outputs": [
    {
     "name": "stdout",
     "output_type": "stream",
     "text": [
      "Enter the list:3 5\n"
     ]
    }
   ],
   "source": [
    "l = list(map(int, input(\"Enter the list:\").split()))\n",
    "\n",
    "\n",
    "curSum = 0\n",
    "maxSum = 0\n",
    "\n",
    "for i in range(len(l)):\n",
    "    curSum += l[i]\n",
    "    "
   ]
  },
  {
   "cell_type": "code",
   "execution_count": 38,
   "id": "e15c561d",
   "metadata": {},
   "outputs": [
    {
     "name": "stdout",
     "output_type": "stream",
     "text": [
      "4\n",
      "3 -3 2 -5 -3 5 7 9\n",
      "curProd: 3, maxProd: 3\n",
      "curProd: -9, maxProd: 3\n",
      "curProd: -18, maxProd: 3\n",
      "curProd: 90, maxProd: 90\n",
      "curProd: -270, maxProd: 90\n",
      "curProd: -1350, maxProd: 90\n",
      "curProd: -9450, maxProd: 90\n",
      "curProd: -85050, maxProd: 90\n",
      "90\n"
     ]
    }
   ],
   "source": [
    "n = int(input())\n",
    "l = list(map(int,input().split()))\n",
    "curProd = 1\n",
    "maxProd = 0\n",
    "for i in range(len(l)):\n",
    "    curProd *= l[i]\n",
    "    if(i == 0):\n",
    "        maxProd = curProd\n",
    "    if(curProd > maxProd):\n",
    "        \n",
    "        maxProd = curProd\n",
    "    print(f\"curProd: {curProd}, maxProd: {maxProd}\")\n",
    "print(maxProd)"
   ]
  },
  {
   "cell_type": "code",
   "execution_count": 36,
   "id": "f7573f14",
   "metadata": {},
   "outputs": [
    {
     "data": {
      "text/plain": [
       "180"
      ]
     },
     "execution_count": 36,
     "metadata": {},
     "output_type": "execute_result"
    }
   ],
   "source": [
    "\"\"\"-4*-3*5*3\"\"\"\n",
    "-2*5*7"
   ]
  },
  {
   "cell_type": "code",
   "execution_count": null,
   "id": "6d067256",
   "metadata": {},
   "outputs": [],
   "source": [
    "x = 6\n",
    "0 1 1 2 3 5"
   ]
  },
  {
   "cell_type": "code",
   "execution_count": null,
   "id": "1330ae9f",
   "metadata": {},
   "outputs": [],
   "source": [
    "n = int(input)"
   ]
  },
  {
   "cell_type": "code",
   "execution_count": 1,
   "id": "d98ea684",
   "metadata": {},
   "outputs": [
    {
     "name": "stdout",
     "output_type": "stream",
     "text": [
      "How many terms? 20\n",
      "Fibonacci sequence:\n",
      "0\n",
      "1\n",
      "1\n",
      "2\n",
      "3\n",
      "5\n",
      "8\n",
      "13\n",
      "21\n",
      "34\n",
      "55\n",
      "89\n",
      "144\n",
      "233\n",
      "377\n",
      "610\n",
      "987\n",
      "1597\n",
      "2584\n",
      "4181\n"
     ]
    }
   ],
   "source": [
    "# Program to display the Fibonacci sequence up to n-th term\n",
    "\n",
    "nterms = int(input(\"How many terms? \"))\n",
    "\n",
    "# first two terms\n",
    "n1, n2 = 0, 1\n",
    "count = 0\n",
    "\n",
    "# check if the number of terms is valid\n",
    "if nterms <= 0:\n",
    "   print(\"Please enter a positive integer\")\n",
    "# if there is only one term, return n1\n",
    "elif nterms == 1:\n",
    "   print(\"Fibonacci sequence upto\",nterms,\":\")\n",
    "   print(n1)\n",
    "# generate fibonacci sequence\n",
    "else:\n",
    "   print(\"Fibonacci sequence:\")\n",
    "   while count < nterms:\n",
    "       print(n1)\n",
    "       nth = n1 + n2\n",
    "       # update values\n",
    "       n1 = n2\n",
    "       n2 = nth\n",
    "       count += 1"
   ]
  },
  {
   "cell_type": "code",
   "execution_count": 2,
   "id": "ee2e2b29",
   "metadata": {},
   "outputs": [
    {
     "name": "stdout",
     "output_type": "stream",
     "text": [
      "3\n",
      "4\n",
      "5\n",
      "6\n",
      "[4, 5, 6]\n"
     ]
    }
   ],
   "source": [
    "n = int(input())\n",
    "l = []\n",
    "sum = 0\n",
    "for i in range(0,n):\n",
    "    l.append(int(input()))\n",
    "print(l)"
   ]
  },
  {
   "cell_type": "code",
   "execution_count": 2,
   "id": "9bb27e47",
   "metadata": {},
   "outputs": [
    {
     "name": "stdout",
     "output_type": "stream",
     "text": [
      "7\n"
     ]
    }
   ],
   "source": [
    "x = 1\n",
    "while(x<10):\n",
    "    a = 7\n",
    "    x+=1\n",
    "print(a)"
   ]
  },
  {
   "cell_type": "code",
   "execution_count": 4,
   "id": "c08e590d",
   "metadata": {},
   "outputs": [
    {
     "name": "stdout",
     "output_type": "stream",
     "text": [
      "2 4\n"
     ]
    },
    {
     "ename": "ValueError",
     "evalue": "invalid literal for int() with base 10: '2 4'",
     "output_type": "error",
     "traceback": [
      "\u001b[1;31m---------------------------------------------------------------------------\u001b[0m",
      "\u001b[1;31mValueError\u001b[0m                                Traceback (most recent call last)",
      "\u001b[1;32m~\\AppData\\Local\\Temp/ipykernel_39288/470343643.py\u001b[0m in \u001b[0;36m<module>\u001b[1;34m\u001b[0m\n\u001b[0;32m      3\u001b[0m \u001b[1;32mfor\u001b[0m \u001b[0mi\u001b[0m \u001b[1;32min\u001b[0m \u001b[0mrange\u001b[0m\u001b[1;33m(\u001b[0m\u001b[0mN\u001b[0m\u001b[1;33m)\u001b[0m\u001b[1;33m:\u001b[0m\u001b[1;33m\u001b[0m\u001b[1;33m\u001b[0m\u001b[0m\n\u001b[0;32m      4\u001b[0m     \u001b[1;32mfor\u001b[0m \u001b[0mj\u001b[0m \u001b[1;32min\u001b[0m \u001b[0mrange\u001b[0m\u001b[1;33m(\u001b[0m\u001b[0mM\u001b[0m\u001b[1;33m)\u001b[0m\u001b[1;33m:\u001b[0m\u001b[1;33m\u001b[0m\u001b[1;33m\u001b[0m\u001b[0m\n\u001b[1;32m----> 5\u001b[1;33m         \u001b[0ml\u001b[0m\u001b[1;33m[\u001b[0m\u001b[0mi\u001b[0m\u001b[1;33m]\u001b[0m\u001b[1;33m[\u001b[0m\u001b[0mj\u001b[0m\u001b[1;33m]\u001b[0m \u001b[1;33m=\u001b[0m \u001b[0mint\u001b[0m\u001b[1;33m(\u001b[0m\u001b[0minput\u001b[0m\u001b[1;33m(\u001b[0m\u001b[1;33m)\u001b[0m\u001b[1;33m)\u001b[0m\u001b[1;33m\u001b[0m\u001b[1;33m\u001b[0m\u001b[0m\n\u001b[0m\u001b[0;32m      6\u001b[0m \u001b[0mprint\u001b[0m\u001b[1;33m(\u001b[0m\u001b[0ml\u001b[0m\u001b[1;33m)\u001b[0m\u001b[1;33m\u001b[0m\u001b[1;33m\u001b[0m\u001b[0m\n",
      "\u001b[1;31mValueError\u001b[0m: invalid literal for int() with base 10: '2 4'"
     ]
    }
   ],
   "source": [
    "N, M = 2, 2\n",
    "l = [[]]\n",
    "for i in range(N):\n",
    "    for j in range(M):\n",
    "        l[i][j] = int(input())\n",
    "print(l)"
   ]
  },
  {
   "cell_type": "code",
   "execution_count": 7,
   "id": "3822427c",
   "metadata": {},
   "outputs": [
    {
     "name": "stdout",
     "output_type": "stream",
     "text": [
      "3\n",
      "2\n",
      "3\n",
      "2\n"
     ]
    }
   ],
   "source": [
    "mat = [[int(input()) for x in range (M)] for y in range(N)]"
   ]
  },
  {
   "cell_type": "code",
   "execution_count": 8,
   "id": "eda70dd7",
   "metadata": {},
   "outputs": [
    {
     "data": {
      "text/plain": [
       "[[3, 2], [3, 2]]"
      ]
     },
     "execution_count": 8,
     "metadata": {},
     "output_type": "execute_result"
    }
   ],
   "source": [
    "mat"
   ]
  },
  {
   "cell_type": "code",
   "execution_count": 10,
   "id": "4fe50a30",
   "metadata": {},
   "outputs": [
    {
     "name": "stdout",
     "output_type": "stream",
     "text": [
      "3 2 1 4\n",
      "[[3 2]\n",
      " [1 4]]\n"
     ]
    }
   ],
   "source": [
    "import numpy as np\n",
    "# single line separated by space\n",
    "entries = list(map(int, input().split()))\n",
    "  \n",
    "# For printing the matrix\n",
    "matrix = np.array(entries).reshape(N,M)\n",
    "print(matrix)"
   ]
  },
  {
   "cell_type": "code",
   "execution_count": 13,
   "id": "1e3a2295",
   "metadata": {},
   "outputs": [
    {
     "name": "stdout",
     "output_type": "stream",
     "text": [
      "3 4 5\n",
      "1 2 3\n",
      "5 4 3\n",
      "[[3, 4, 5], [1, 2, 3], [5, 4, 3]]\n"
     ]
    }
   ],
   "source": [
    "N = 3\n",
    "l = [None for x in range(N)]\n",
    "for i in range(N):\n",
    "    mat = list(map(int,input().split()))\n",
    "    l[i] = mat\n",
    "print(l)"
   ]
  },
  {
   "cell_type": "code",
   "execution_count": 14,
   "id": "00545a44",
   "metadata": {},
   "outputs": [],
   "source": [
    "N = 3\n",
    "M = 2\n",
    "l1 = [[None for x in range(M)] for y in range(N)]"
   ]
  },
  {
   "cell_type": "code",
   "execution_count": 15,
   "id": "cd4c181c",
   "metadata": {},
   "outputs": [
    {
     "data": {
      "text/plain": [
       "[[None, None], [None, None], [None, None]]"
      ]
     },
     "execution_count": 15,
     "metadata": {},
     "output_type": "execute_result"
    }
   ],
   "source": [
    "l1 "
   ]
  },
  {
   "cell_type": "code",
   "execution_count": 19,
   "id": "4574054a",
   "metadata": {},
   "outputs": [
    {
     "name": "stdout",
     "output_type": "stream",
     "text": [
      "3 2 4\n",
      "6 5 4\n",
      "3 2 1\n",
      "0 0\n",
      "1 1\n",
      "2 2\n"
     ]
    },
    {
     "ename": "IndexError",
     "evalue": "list index out of range",
     "output_type": "error",
     "traceback": [
      "\u001b[1;31m---------------------------------------------------------------------------\u001b[0m",
      "\u001b[1;31mIndexError\u001b[0m                                Traceback (most recent call last)",
      "\u001b[1;32m~\\AppData\\Local\\Temp/ipykernel_39288/45290044.py\u001b[0m in \u001b[0;36m<module>\u001b[1;34m\u001b[0m\n\u001b[0;32m     17\u001b[0m         \u001b[1;32mif\u001b[0m\u001b[1;33m(\u001b[0m\u001b[0mi\u001b[0m \u001b[1;33m==\u001b[0m \u001b[0mj\u001b[0m\u001b[1;33m)\u001b[0m\u001b[1;33m:\u001b[0m\u001b[1;33m\u001b[0m\u001b[1;33m\u001b[0m\u001b[0m\n\u001b[0;32m     18\u001b[0m             \u001b[0mprint\u001b[0m\u001b[1;33m(\u001b[0m\u001b[0mi\u001b[0m\u001b[1;33m,\u001b[0m\u001b[0mj\u001b[0m\u001b[1;33m)\u001b[0m\u001b[1;33m\u001b[0m\u001b[1;33m\u001b[0m\u001b[0m\n\u001b[1;32m---> 19\u001b[1;33m             \u001b[0ml1\u001b[0m\u001b[1;33m[\u001b[0m\u001b[0mi\u001b[0m\u001b[1;33m]\u001b[0m\u001b[1;33m[\u001b[0m\u001b[0mj\u001b[0m\u001b[1;33m]\u001b[0m \u001b[1;33m=\u001b[0m \u001b[0ml\u001b[0m\u001b[1;33m[\u001b[0m\u001b[0mi\u001b[0m\u001b[1;33m]\u001b[0m\u001b[1;33m[\u001b[0m\u001b[0mj\u001b[0m\u001b[1;33m-\u001b[0m\u001b[1;36m1\u001b[0m\u001b[1;33m]\u001b[0m \u001b[1;33m+\u001b[0m \u001b[0ml\u001b[0m\u001b[1;33m[\u001b[0m\u001b[0mi\u001b[0m\u001b[1;33m]\u001b[0m\u001b[1;33m[\u001b[0m\u001b[0mj\u001b[0m\u001b[1;33m+\u001b[0m\u001b[1;36m1\u001b[0m\u001b[1;33m]\u001b[0m \u001b[1;33m+\u001b[0m \u001b[0ml\u001b[0m\u001b[1;33m[\u001b[0m\u001b[0mi\u001b[0m\u001b[1;33m-\u001b[0m\u001b[1;36m1\u001b[0m\u001b[1;33m]\u001b[0m\u001b[1;33m[\u001b[0m\u001b[0mj\u001b[0m\u001b[1;33m]\u001b[0m \u001b[1;33m+\u001b[0m \u001b[0ml\u001b[0m\u001b[1;33m[\u001b[0m\u001b[0mi\u001b[0m\u001b[1;33m+\u001b[0m\u001b[1;36m1\u001b[0m\u001b[1;33m]\u001b[0m\u001b[1;33m[\u001b[0m\u001b[0mj\u001b[0m\u001b[1;33m]\u001b[0m\u001b[1;33m\u001b[0m\u001b[1;33m\u001b[0m\u001b[0m\n\u001b[0m\u001b[0;32m     20\u001b[0m \u001b[0mprint\u001b[0m\u001b[1;33m(\u001b[0m\u001b[0ml1\u001b[0m\u001b[1;33m)\u001b[0m\u001b[1;33m\u001b[0m\u001b[1;33m\u001b[0m\u001b[0m\n",
      "\u001b[1;31mIndexError\u001b[0m: list index out of range"
     ]
    }
   ],
   "source": [
    "N, M = 3, 3\n",
    "l = [None for x in range(N)]\n",
    "l1 = [[None for x in range(M)] for y in range(N)]\n",
    "for i in range(N):\n",
    "    mat = list(map(int,input().split()))\n",
    "    l[i] = mat\n",
    "for i in range(N):\n",
    "    for j in range(M):\n",
    "        if (i == 0 and j == 0):\n",
    "            l1[i][j] = l[0][1] + l[1][0]\n",
    "        if (i == 0 and j == M-1):\n",
    "        \tl1[i][j] = l[0][M-2] + l[1][M-1]\n",
    "        if (i == N-1 and j == 0):\n",
    "            l1[i][j] = l[N-2][0] + l[N-1][1]\n",
    "        if (i == N-1 and j == M-1):\n",
    "        \tl1[i][j] = l[N-1][M-2] + l[N-2][M-1]\n",
    "        if(i == j):\n",
    "            print(i,j)\n",
    "            l1[i][j] = l[i][j-1] + l[i][j+1] + l[i-1][j] + l[i+1][j]\n",
    "print(l1)"
   ]
  },
  {
   "cell_type": "code",
   "execution_count": 10,
   "id": "1967d5ab",
   "metadata": {},
   "outputs": [
    {
     "name": "stdout",
     "output_type": "stream",
     "text": [
      "5 4 1 10 15\n",
      "Enter the sum: 15\n",
      "0 0\n"
     ]
    }
   ],
   "source": [
    "arr = list(map(int,input().split()))\n",
    "n = int(input(\"Enter the sum: \"))\n",
    "r, l =0, 0\n",
    "cur_sum = 0\n",
    "start, end = 0, 0\n",
    "cur_sum = arr[r]\n",
    "while(cur_sum != n):\n",
    "    if(cur_sum == n):\n",
    "        start, end = l, r\n",
    "        break\n",
    "    if(cur_sum < n):\n",
    "        r += 1\n",
    "    if(cur_sum > n):\n",
    "        cur_sum -= arr[l]\n",
    "        l += 1\n",
    "    cur_sum += arr[r]\n",
    "print(start, end)"
   ]
  },
  {
   "cell_type": "markdown",
   "id": "c0e551ec",
   "metadata": {},
   "source": [
    "## Subarray with given sum"
   ]
  },
  {
   "cell_type": "markdown",
   "id": "e533ff0c",
   "metadata": {},
   "source": [
    "* Brute Force"
   ]
  },
  {
   "cell_type": "code",
   "execution_count": 14,
   "id": "34046034",
   "metadata": {},
   "outputs": [
    {
     "name": "stdout",
     "output_type": "stream",
     "text": [
      "Enter the list: 5 4 7 2 8\n",
      "Enter the sum: 8\n",
      "Sum found at: (4, 4)\n"
     ]
    }
   ],
   "source": [
    "arr = list(map(int, input(\"Enter the list: \").split()))\n",
    "n = len(arr)\n",
    "cur_sum = 0\n",
    "flag = False\n",
    "sum = int(input(\"Enter the sum: \"))\n",
    "for i in range(n):\n",
    "    cur_sum = arr[i]\n",
    "    for j in range(i+1,n+1):\n",
    "        if(cur_sum == sum):\n",
    "            print(f\"Sum found at: {i,j-1}\")\n",
    "            flag = True\n",
    "        if j == n:\n",
    "            break\n",
    "        cur_sum += arr[j]\n",
    "if flag == False:\n",
    "    print(\"Sum not found\")"
   ]
  },
  {
   "cell_type": "markdown",
   "id": "24abae5c",
   "metadata": {},
   "source": [
    "* Non negative"
   ]
  },
  {
   "cell_type": "code",
   "execution_count": 22,
   "id": "8d08e78e",
   "metadata": {},
   "outputs": [
    {
     "name": "stdout",
     "output_type": "stream",
     "text": [
      "Enter the list: 1 2 18 6 7 \n",
      "Enter the sum: 13\n",
      "Sub array found at: (3, 4)\n"
     ]
    }
   ],
   "source": [
    "arr = list(map(int, input(\"Enter the list: \").split()))\n",
    "n = len(arr)\n",
    "start = 0\n",
    "end = 1\n",
    "cur_sum = arr[0]\n",
    "flag = True\n",
    "sum_ = int(input(\"Enter the sum: \"))\n",
    "while(end <= n):\n",
    "    while(cur_sum > sum_):\n",
    "        cur_sum -= arr[start]\n",
    "        start += 1\n",
    "    if cur_sum == sum_:\n",
    "        print(f\"Sub array found at: {start,end-1}\")\n",
    "        flag = False\n",
    "        break\n",
    "    if end<n:\n",
    "        cur_sum += arr[end]\n",
    "    end += 1\n",
    "if flag:\n",
    "    print(\"Sub array not found\")"
   ]
  },
  {
   "cell_type": "code",
   "execution_count": 3,
   "id": "b0e1b3f4",
   "metadata": {},
   "outputs": [
    {
     "name": "stdout",
     "output_type": "stream",
     "text": [
      "Enter the list: 3 2 6 7 4 1 6\n",
      "3\n",
      "arr: [3, 2, 6, 7, 4, 1, 6], arr1: [3, 5, 11, 18, 22, 23, 29], arr2: [6, 7, 11, 18, 24, 26, 29]\n",
      "sum1: 29, sum2: 29\n"
     ]
    }
   ],
   "source": [
    "arr = list(map(int, input(\"Enter the list: \").split()))\n",
    "n = len(arr)\n",
    "arr1 = []\n",
    "arr2 = []\n",
    "sum1 = 0\n",
    "sum2 = 0\n",
    "i, j, k = 0, len(arr) - 2, len(arr)-2\n",
    "for i, j in zip(range(len(arr)), range(len(arr)-1, -1, -1)):\n",
    "    sum1 += arr[i]\n",
    "    arr1.append(sum1)\n",
    "    sum2 += arr[j]\n",
    "    arr2.append(sum2)\n",
    "for i in range(1,len(arr)-1):\n",
    "    if arr1[i] == arr2[k]:\n",
    "        print(i)\n",
    "    k -= 1\n",
    "print(f\"arr: {arr}, arr1: {arr1}, arr2: {arr2}\")\n",
    "print(f\"sum1: {sum1}, sum2: {sum2}\")"
   ]
  },
  {
   "cell_type": "markdown",
   "id": "68b84ce6",
   "metadata": {},
   "source": [
    "## Majority element (Moore's Voting Algorithm)"
   ]
  },
  {
   "cell_type": "code",
   "execution_count": 2,
   "id": "635d15f8",
   "metadata": {},
   "outputs": [
    {
     "name": "stdout",
     "output_type": "stream",
     "text": [
      "2 3 1 1 1 1 1 1 5\n",
      "1\n"
     ]
    }
   ],
   "source": [
    "arr = list(map(int,input().split()))\n",
    "n = len(arr)\n",
    "ansIndex = 0\n",
    "count = 1\n",
    "for i in range(1,len(arr)):\n",
    "    if arr[ansIndex] == arr[i]:\n",
    "        count += 1\n",
    "    else:\n",
    "        count -= 1\n",
    "    if count == 0:\n",
    "        ansIndex = i\n",
    "        count = 1\n",
    "if arr.count(arr[ansIndex]) > n//2:\n",
    "    print(arr[ansIndex])\n",
    "else:\n",
    "    print(-1)"
   ]
  },
  {
   "cell_type": "markdown",
   "id": "759cab2e",
   "metadata": {},
   "source": [
    "## Kadanes Algorithm"
   ]
  },
  {
   "cell_type": "code",
   "execution_count": 5,
   "id": "1b4e4862",
   "metadata": {},
   "outputs": [
    {
     "data": {
      "text/plain": [
       "-inf"
      ]
     },
     "execution_count": 5,
     "metadata": {},
     "output_type": "execute_result"
    }
   ],
   "source": [
    "float('-inf')"
   ]
  },
  {
   "cell_type": "code",
   "execution_count": 1,
   "id": "fde53d38",
   "metadata": {},
   "outputs": [
    {
     "name": "stdout",
     "output_type": "stream",
     "text": [
      "-4 -3 -5 6 4 9 8\n",
      "27\n",
      "3 6\n"
     ]
    }
   ],
   "source": [
    "arr = list(map(int,input().split()))\n",
    "curSum = 0\n",
    "maxSum = float('-inf')\n",
    "stop = 0\n",
    "start = 0\n",
    "for i in range(len(arr)):\n",
    "    curSum += arr[i]\n",
    "    if curSum > maxSum:\n",
    "        stop = i\n",
    "        maxSum = curSum\n",
    "    if curSum < 0:\n",
    "        start = i+1\n",
    "        curSum = 0\n",
    "print(maxSum)\n",
    "print(start,stop)"
   ]
  },
  {
   "cell_type": "code",
   "execution_count": 19,
   "id": "9768bd93",
   "metadata": {},
   "outputs": [],
   "source": [
    "l = list(map(int,\"2 -4 5 6 3 -1 2 5\".split()))"
   ]
  },
  {
   "cell_type": "code",
   "execution_count": 20,
   "id": "26f73944",
   "metadata": {},
   "outputs": [
    {
     "data": {
      "text/plain": [
       "[2, -4, 5, 6, 3, -1, 2, 5]"
      ]
     },
     "execution_count": 20,
     "metadata": {},
     "output_type": "execute_result"
    }
   ],
   "source": [
    "l"
   ]
  },
  {
   "cell_type": "markdown",
   "id": "839c77c6",
   "metadata": {},
   "source": [
    "## Maximum and Minimum Element in an Array"
   ]
  },
  {
   "cell_type": "code",
   "execution_count": 2,
   "id": "79b727ab",
   "metadata": {},
   "outputs": [
    {
     "name": "stdout",
     "output_type": "stream",
     "text": [
      "3 2 6  8\n",
      "2 8\n"
     ]
    }
   ],
   "source": [
    "arr = list(map(int,input().strip().split()))\n",
    "print(min(arr),max(arr))"
   ]
  },
  {
   "cell_type": "markdown",
   "id": "0f1bd0af",
   "metadata": {},
   "source": [
    "## Reverse the Array"
   ]
  },
  {
   "cell_type": "code",
   "execution_count": 6,
   "id": "501fe450",
   "metadata": {},
   "outputs": [
    {
     "name": "stdout",
     "output_type": "stream",
     "text": [
      "2 3 4 5 6 7 8\n",
      "[8, 7, 6, 5, 4, 3, 2]\n"
     ]
    }
   ],
   "source": [
    "arr = list(map(int,input().strip().split()))\n",
    "start = 0\n",
    "end = len(arr) - 1\n",
    "while(start < end):\n",
    "    arr[start], arr[end] = arr[end], arr[start]\n",
    "    start += 1\n",
    "    end -= 1\n",
    "print(arr)"
   ]
  },
  {
   "cell_type": "markdown",
   "id": "7142ca1f",
   "metadata": {},
   "source": [
    "## Maximum-Subarray"
   ]
  },
  {
   "cell_type": "code",
   "execution_count": 12,
   "id": "81c78b65",
   "metadata": {},
   "outputs": [
    {
     "name": "stdout",
     "output_type": "stream",
     "text": [
      "3 2 -5 4 7 -6\n",
      "11\n"
     ]
    }
   ],
   "source": [
    "arr = list(map(int,input().strip().split()))\n",
    "maxsum = float(\"-inf\")\n",
    "cursum = 0\n",
    "for i in arr:\n",
    "    cursum += i\n",
    "    if cursum > maxsum:\n",
    "        maxsum = cursum\n",
    "    if cursum < 0:\n",
    "        cursum = 0\n",
    "print(maxsum)"
   ]
  },
  {
   "cell_type": "markdown",
   "id": "45b6b411",
   "metadata": {},
   "source": [
    "## Contains Duplicate"
   ]
  },
  {
   "cell_type": "code",
   "execution_count": 3,
   "id": "0045a7cb",
   "metadata": {},
   "outputs": [
    {
     "name": "stdout",
     "output_type": "stream",
     "text": [
      "6 5 7 8 9 4 3 4\n",
      "True\n"
     ]
    }
   ],
   "source": [
    "nums = list(map(int, input().strip().split()))\n",
    "hashset = set()\n",
    "flag = False\n",
    "for n in nums:\n",
    "    if n in hashset:\n",
    "        flag = True\n",
    "    hashset.add(n)\n",
    "if flag:\n",
    "    print(flag)\n",
    "else:\n",
    "    print(flag)"
   ]
  },
  {
   "cell_type": "markdown",
   "id": "3cb17f68",
   "metadata": {},
   "source": [
    "## Chocolate Distribution Problem"
   ]
  },
  {
   "cell_type": "code",
   "execution_count": 11,
   "id": "fd22665d",
   "metadata": {},
   "outputs": [
    {
     "name": "stdout",
     "output_type": "stream",
     "text": [
      "12, 4, 7, 9, 2, 23, 25, 41,  30, 40, 28, 42, 30, 44, 48,  43, 50\n",
      "7\n",
      "10\n"
     ]
    }
   ],
   "source": [
    "arr = list(map(int, input().strip().split(\", \")))\n",
    "m = int(input())\n",
    "arr.sort()\n",
    "low = 0\n",
    "high = m-1\n",
    "d = float('inf')\n",
    "while(high < len(arr)):\n",
    "    temp = arr[high] - arr[low]\n",
    "    if temp < d:\n",
    "        d = temp\n",
    "    high += 1\n",
    "    low += 1\n",
    "print(d)"
   ]
  },
  {
   "cell_type": "code",
   "execution_count": 12,
   "id": "fc03d3ea",
   "metadata": {},
   "outputs": [
    {
     "name": "stdout",
     "output_type": "stream",
     "text": [
      "3, 4, 1, 9, 56, 7, 9, 12\n",
      "4\n",
      "5\n"
     ]
    }
   ],
   "source": [
    "arr = list(map(int, input().strip().split(\", \")))\n",
    "m = int(input())\n",
    "arr.sort()\n",
    "n = len(arr)\n",
    "if (m==0 or n==0):\n",
    "    print(0)\n",
    "if m > n:\n",
    "    print(-1)\n",
    "min_val = float(\"inf\")\n",
    "for i in range(n-m+1):\n",
    "    min_val = min(min_val,arr[i+m-1] - arr[i])\n",
    "print(min_val)"
   ]
  },
  {
   "cell_type": "markdown",
   "id": "e01aa1f3",
   "metadata": {},
   "source": [
    "## Search an Element in a Sorted and Pivoted Array"
   ]
  },
  {
   "cell_type": "code",
   "execution_count": 22,
   "id": "a0d363c6",
   "metadata": {},
   "outputs": [
    {
     "name": "stdout",
     "output_type": "stream",
     "text": [
      "5, 6, 7, 8, 9, 10, 1, 2, 3\n",
      "3\n",
      "8\n"
     ]
    }
   ],
   "source": [
    "arr = list(map(int, input().strip().split(\", \")))\n",
    "key = int(input())\n",
    "low = 0\n",
    "high = len(arr) - 1\n",
    "index = 0\n",
    "while(low <= high):\n",
    "    mid = (low+high)//2\n",
    "    if arr[mid] == key:\n",
    "        index = mid\n",
    "        break\n",
    "    elif arr[low] <= arr[mid]:\n",
    "        if (arr[low] <= key and key < arr[mid]):\n",
    "            high = mid-1\n",
    "        else:\n",
    "            low = mid+1\n",
    "    elif (arr[high] >= arr[mid]):\n",
    "        if (arr[high] >= key and key >arr[mid]):\n",
    "            low = mid+1\n",
    "        else:\n",
    "            high = mid-1\n",
    "if index:\n",
    "    print(index)\n",
    "else:\n",
    "    print(\"Not found\")"
   ]
  },
  {
   "cell_type": "markdown",
   "id": "8e137c95",
   "metadata": {},
   "source": [
    "## Next Permutation"
   ]
  },
  {
   "cell_type": "code",
   "execution_count": null,
   "id": "953f0aa4",
   "metadata": {},
   "outputs": [],
   "source": [
    "6 2 1 5 4 3 0"
   ]
  },
  {
   "cell_type": "code",
   "execution_count": 75,
   "id": "aa34f2a3",
   "metadata": {},
   "outputs": [
    {
     "name": "stdout",
     "output_type": "stream",
     "text": [
      "62 92 96 43 28 37 92 5 3 54 93 83 22\n",
      "83\n",
      "[62, 92, 96, 43, 28, 37, 92, 5, 3, 83, 22, 54, 93]\n"
     ]
    }
   ],
   "source": [
    "arr = list(map(int, input().strip().split()))\n",
    "pivot = 0\n",
    "i = len(arr)-1\n",
    "j = 0\n",
    "flag = False\n",
    "while (arr[i] <= arr[i-1]):\n",
    "    pivot = arr[i-1]\n",
    "    i -= 1\n",
    "    if i == 0:\n",
    "        flag = True\n",
    "        break\n",
    "pivot = arr[i-1]\n",
    "mini = min(arr[i::])\n",
    "if flag:\n",
    "    arr = arr[::-1]\n",
    "else:\n",
    "    for j in range(len(arr)-1, i-1, -1):\n",
    "        if arr[j] > pivot:\n",
    "            mini = arr[j]\n",
    "            break\n",
    "    arr[i-1], arr[j] = arr[j], arr[i-1]\n",
    "    arr[i:] = arr[i:][::-1]\n",
    "    \n",
    "print(arr)"
   ]
  },
  {
   "cell_type": "code",
   "execution_count": 71,
   "id": "654eaf53",
   "metadata": {},
   "outputs": [
    {
     "name": "stdout",
     "output_type": "stream",
     "text": [
      "62 92 96 43 28 37 92 5 3 54 93 83 22\n",
      "[62, 92, 96, 43, 28, 37, 92, 5, 3, 83, 22, 54, 93]\n"
     ]
    }
   ],
   "source": [
    "nums = list(map(int, input().strip().split()))\n",
    "\n",
    "i = j = len(nums) - 1\n",
    "while i > 0 and nums[i - 1] >= nums[i]:\n",
    "    i -= 1\n",
    "if i == 0:\n",
    "    nums.reverse()\n",
    "    exit(0)\n",
    "k = i - 1\n",
    "while nums[j] <= nums[k]:\n",
    "    j -= 1\n",
    "nums[k], nums[j] = nums[j], nums[k]\n",
    "l, r = k + 1, len(nums) - 1\n",
    "while l < r:\n",
    "    nums[l], nums[r] = nums[r], nums[l]\n",
    "    l += 1\n",
    "    r -= 1\n",
    "print(nums)"
   ]
  },
  {
   "cell_type": "markdown",
   "id": "4596b72e",
   "metadata": {},
   "source": [
    "## Best Time to Buy and Sell Stock"
   ]
  },
  {
   "cell_type": "code",
   "execution_count": 2,
   "id": "b723de29",
   "metadata": {},
   "outputs": [
    {
     "name": "stdout",
     "output_type": "stream",
     "text": [
      "7,1,5,3,6,4\n",
      "5\n"
     ]
    }
   ],
   "source": [
    "prices = list(map(int,input().strip().split(\",\")))\n",
    "mini = 0\n",
    "maxi = 0\n",
    "profit = 0\n",
    "flag = all(prices[i] >= prices[i+1] for i in range(len(prices)-1))\n",
    "if flag:\n",
    "    return(0)\n",
    "else:\n",
    "    "
   ]
  },
  {
   "cell_type": "code",
   "execution_count": 13,
   "id": "e2869b68",
   "metadata": {},
   "outputs": [
    {
     "name": "stdout",
     "output_type": "stream",
     "text": [
      "4 3 2\n",
      "-1\n"
     ]
    }
   ],
   "source": [
    "prices = list(map(int,input().strip().split()))\n",
    "mini = 0\n",
    "maxi = 0\n",
    "profit = float(\"-inf\")\n",
    "flag = all(prices[i] >= prices[i+1] for i in range(len(prices)-1))\n",
    "\n",
    "for i in range(len(prices)):\n",
    "    if i+1 == len(prices):\n",
    "        break\n",
    "    maxi = max(prices[i+1:])\n",
    "    mini = prices[i]\n",
    "    profit = max(profit,(maxi-mini))\n",
    "if profit < 0:\n",
    "    return 0\n",
    "else:\n",
    "    return profit"
   ]
  },
  {
   "cell_type": "code",
   "execution_count": 16,
   "id": "59b44075",
   "metadata": {},
   "outputs": [
    {
     "name": "stdout",
     "output_type": "stream",
     "text": [
      "2 4 1\n",
      "2\n"
     ]
    }
   ],
   "source": [
    "prices = list(map(int,input().strip().split()))\n",
    "aux = [None for i in range(len(prices))]\n",
    "maxProfit = float(\"-inf\")\n",
    "for i in range(len(prices)-1,-1,-1):\n",
    "    maxi = max(prices[i:])\n",
    "    aux[i] = maxi\n",
    "for val1,val2 in zip(prices,aux):\n",
    "    maxProfit = max(maxProfit,(val2-val1))\n",
    "print(maxProfit)"
   ]
  },
  {
   "cell_type": "code",
   "execution_count": 17,
   "id": "6d1b3957",
   "metadata": {},
   "outputs": [
    {
     "name": "stdout",
     "output_type": "stream",
     "text": [
      "2 4 1\n",
      "2\n"
     ]
    }
   ],
   "source": [
    "prices = list(map(int,input().strip().split()))\n",
    "minSoFar = prices[0]\n",
    "maxProfit = 0\n",
    "for i in range(len(prices)):\n",
    "    minSoFar = min(minSoFar,prices[i])\n",
    "    profit = prices[i] - minSoFar\n",
    "    maxProfit = max(maxProfit,profit)\n",
    "print(maxProfit)"
   ]
  },
  {
   "cell_type": "markdown",
   "id": "e8661cad",
   "metadata": {},
   "source": [
    "## Repeat and Missing number array"
   ]
  },
  {
   "cell_type": "code",
   "execution_count": 11,
   "id": "fe2aab8d",
   "metadata": {},
   "outputs": [
    {
     "name": "stdout",
     "output_type": "stream",
     "text": [
      "12 7 5 1 13 1 10 8 11 9 2 4 3 6\n",
      "[1, 1, 2, 3, 4, 5, 6, 7, 8, 9, 10, 11, 12, 13]\n",
      "1 0\n"
     ]
    }
   ],
   "source": [
    "arr = list(map(int, input().strip().split()))\n",
    "arr.sort()\n",
    "print(arr)\n",
    "r = 0\n",
    "m = 0\n",
    "flag = True\n",
    "for i in range(len(arr)):\n",
    "    if i+1 == len(arr):\n",
    "        break\n",
    "    if arr[i] == arr[i+1]:\n",
    "        r = arr[i]\n",
    "        break\n",
    "for i in range(len(arr)):\n",
    "    if i+1 == len(arr):\n",
    "        break\n",
    "    if (arr[i+1] - arr[i]) > 1:\n",
    "        flag = False\n",
    "        m = (arr[i+1] + arr[i])//2\n",
    "        break\n",
    "if flag:\n",
    "    m = arr[-1] + 1\n",
    "print(r,m)"
   ]
  },
  {
   "cell_type": "code",
   "execution_count": 16,
   "id": "b94ccd73",
   "metadata": {},
   "outputs": [
    {
     "name": "stdout",
     "output_type": "stream",
     "text": [
      "2 2\n",
      "1 2\n"
     ]
    }
   ],
   "source": [
    "arr = list(map(int, input().strip().split()))\n",
    "bool_= [False for i in range(len(arr)+1)]\n",
    "rep = 0\n",
    "mis = 0\n",
    "for i in arr:\n",
    "    if bool_[i] == False:\n",
    "        bool_[i] = True\n",
    "        continue\n",
    "    if bool_[i] == True:\n",
    "        rep = i\n",
    "for i in range(1,len(bool_)):\n",
    "    if bool_[i] == False:\n",
    "        mis = i\n",
    "print(mis, rep)"
   ]
  },
  {
   "cell_type": "code",
   "execution_count": 23,
   "id": "4e5df1df",
   "metadata": {},
   "outputs": [
    {
     "name": "stdout",
     "output_type": "stream",
     "text": [
      "1 2 3 4\n",
      "10 30\n",
      "10 30\n"
     ]
    }
   ],
   "source": [
    "arr = list(map(int, input().strip().split()))\n",
    "n = len(arr)\n",
    "sum_ = sum(arr)\n",
    "sum_2 = sum([i**2 for i in arr])\n",
    "\n",
    "print(sum_,sum_2)"
   ]
  },
  {
   "cell_type": "markdown",
   "id": "762287ae",
   "metadata": {},
   "source": [
    "## Max Heap"
   ]
  },
  {
   "cell_type": "code",
   "execution_count": 23,
   "id": "876de661",
   "metadata": {},
   "outputs": [],
   "source": [
    "def insert(a, n, value):\n",
    "    a.append(value)\n",
    "    i = n\n",
    "    while(i > 0):\n",
    "        parent = i//2\n",
    "        if(a[parent] < a[i]):\n",
    "            a[parent], a[i] = a[i], a[parent]\n",
    "            i = parent\n",
    "            continue\n",
    "        else:\n",
    "            return\n"
   ]
  },
  {
   "cell_type": "code",
   "execution_count": 24,
   "id": "3ec09fad",
   "metadata": {},
   "outputs": [
    {
     "name": "stdout",
     "output_type": "stream",
     "text": [
      "Do you want to insert? yes\n",
      "Enter the number: 7\n",
      "Do you want to insert? yes\n",
      "Enter the number: 3\n",
      "Do you want to insert? yes\n",
      "Enter the number: 9\n",
      "Do you want to insert? yes\n",
      "Enter the number: 8\n",
      "Do you want to insert? no\n",
      "[9, 8, 3, 7]\n"
     ]
    }
   ],
   "source": [
    "flag = True\n",
    "a = []\n",
    "while(flag):\n",
    "    yn = input(\"Do you want to insert? \")\n",
    "    \n",
    "    if yn == \"yes\":\n",
    "        val = int(input(\"Enter the number: \"))\n",
    "        insert(a,len(a),val)\n",
    "    else:\n",
    "        flag = False\n",
    "print(a)"
   ]
  },
  {
   "cell_type": "markdown",
   "id": "60bde913",
   "metadata": {},
   "source": [
    "## Trapping Rain Water"
   ]
  },
  {
   "cell_type": "code",
   "execution_count": 34,
   "id": "257a04f5",
   "metadata": {},
   "outputs": [
    {
     "data": {
      "text/plain": [
       "[3, 2, 1, 5, 4, 3, 2, 1]"
      ]
     },
     "execution_count": 34,
     "metadata": {},
     "output_type": "execute_result"
    }
   ],
   "source": [
    "arr = [1,2,3,4,5,1,2,3]\n",
    "list(reversed(arr))"
   ]
  },
  {
   "cell_type": "code",
   "execution_count": 38,
   "id": "3dc356ba",
   "metadata": {},
   "outputs": [
    {
     "name": "stdout",
     "output_type": "stream",
     "text": [
      "1 0 2 1 0 1 3 2 1 2 1\n",
      "6\n"
     ]
    }
   ],
   "source": [
    "def max_arr(list_,n):\n",
    "    dup_list = []\n",
    "    for i in range(n):\n",
    "        if i==0:\n",
    "            max_ = list_[i]\n",
    "            dup_list.append(max_)\n",
    "            continue\n",
    "        max_ = max(list_[i],dup_list[i-1])\n",
    "        dup_list.append(max_)\n",
    "    return dup_list\n",
    "arr = list(map(int, input().strip().split()))\n",
    "n = len(arr)\n",
    "left = max_arr(arr,n)\n",
    "right = list(reversed(max_arr(list(reversed(arr)),n)))\n",
    "result = 0\n",
    "for i in range(n):\n",
    "    result += min(left[i],right[i]) - arr[i]\n",
    "print(result)"
   ]
  },
  {
   "cell_type": "markdown",
   "id": "50b73b80",
   "metadata": {},
   "source": [
    "## Product of array except self"
   ]
  },
  {
   "cell_type": "code",
   "execution_count": 4,
   "id": "feec4120",
   "metadata": {},
   "outputs": [
    {
     "name": "stdout",
     "output_type": "stream",
     "text": [
      "5 4 6 7\n",
      "[168, 210, 140, 120]\n"
     ]
    }
   ],
   "source": [
    "def cum_prod(list_,n):\n",
    "    cum_prod = 1\n",
    "    dup_list = [cum_prod:=cum_prod*i for i in list_]\n",
    "#     for i in list_:\n",
    "#         cum_prod *= i\n",
    "#         dup_list.append(cum_prod)\n",
    "    return dup_list\n",
    "arr = list(map(int, input().strip().split()))\n",
    "n = len(arr)\n",
    "left = cum_prod(arr,n)\n",
    "right = list(reversed(cum_prod(reversed(arr),n)))\n",
    "result = []\n",
    "for i in range(n):\n",
    "    if i==0:\n",
    "        result.append(right[i+1])\n",
    "        continue\n",
    "    if i==n-1:\n",
    "        result.append(left[i-1])\n",
    "        break\n",
    "    result.append(left[i-1]*right[i+1])\n",
    "print(result)"
   ]
  },
  {
   "cell_type": "code",
   "execution_count": 5,
   "id": "b9da1b84",
   "metadata": {},
   "outputs": [
    {
     "name": "stdout",
     "output_type": "stream",
     "text": [
      "[1, 2, 6, 24]\n"
     ]
    }
   ],
   "source": [
    "lst = [1, 2, 3, 4]\n",
    "\n",
    "curr = 1\n",
    "out = [(curr:=curr*v) for v in lst]\n",
    "print(out)"
   ]
  },
  {
   "cell_type": "markdown",
   "id": "ae662e90",
   "metadata": {},
   "source": [
    "## Maximum Product Subarray"
   ]
  },
  {
   "cell_type": "code",
   "execution_count": 8,
   "id": "d883928b",
   "metadata": {},
   "outputs": [
    {
     "name": "stdout",
     "output_type": "stream",
     "text": [
      "2 3 -4 4\n",
      "4 4 2\n",
      "12 12 3\n",
      "12 -4 -48\n",
      "12 4 -192\n"
     ]
    }
   ],
   "source": [
    "nums = list(map(int, input().strip().split()))\n",
    "ans = nums[0]\n",
    "ma = ans\n",
    "mi = ans\n",
    "for i in range(0,len(nums)):\n",
    "    if nums[i] < 0:\n",
    "        ma,mi=mi,ma\n",
    "    ma = max(nums[i],nums[i]*ma)\n",
    "    mi = min(nums[i],nums[i]*mi)\n",
    "    ans = max(ma,ans)\n",
    "    \n",
    "    print(ans,ma,mi)"
   ]
  },
  {
   "cell_type": "markdown",
   "id": "89b89946",
   "metadata": {},
   "source": [
    "## Find Minimum in Rotated Sorted Array"
   ]
  },
  {
   "cell_type": "code",
   "execution_count": 4,
   "id": "dc1f0710",
   "metadata": {},
   "outputs": [
    {
     "name": "stdout",
     "output_type": "stream",
     "text": [
      "7 8 9 1 2 3 4 5 6\n",
      "1\n"
     ]
    }
   ],
   "source": [
    "nums = list(map(int, input().strip().split()))\n",
    "res = nums[0]\n",
    "l, r = 0, len(nums) - 1\n",
    "while l <= r:\n",
    "    if nums[l] < nums[r]:\n",
    "        res = res if res<nums[l] else nums[l]\n",
    "        break\n",
    "    m = (l+r)//2\n",
    "    res = res if res<nums[m] else nums[m]\n",
    "    if nums[m] >= nums[l]:\n",
    "        l = m + 1\n",
    "    else:\n",
    "        r = m -1\n",
    "print(res)"
   ]
  },
  {
   "cell_type": "markdown",
   "id": "e7558428",
   "metadata": {},
   "source": [
    "## Search in Rotated Sorted Array"
   ]
  },
  {
   "cell_type": "code",
   "execution_count": null,
   "id": "efd5c2b6",
   "metadata": {},
   "outputs": [
    {
     "name": "stdout",
     "output_type": "stream",
     "text": [
      "7 8 1 2 3 4 5 6\n",
      "6\n"
     ]
    }
   ],
   "source": [
    "nums = list(map(int, input().strip().split()))\n",
    "target = int(input())\n",
    "l, r = 0, len(nums)-1\n",
    "flag = False\n",
    "mid = None\n",
    "while l<=r:\n",
    "    mid = (l+r)//2\n",
    "    if nums[mid] == target:\n",
    "        flag = True\n",
    "        break\n",
    "    if nums[mid] >= nums[l]:\n",
    "        if nums[l] <= target <= nums[mid-1]:\n",
    "            r = mid-1\n",
    "            continue\n",
    "    else:\n",
    "        if nums[mid+1] <= target <= nums[r]:\n",
    "            l = mid+1\n",
    "            continue\n",
    "if flag:\n",
    "    print(mid)\n",
    "else:\n",
    "    print(-1)"
   ]
  },
  {
   "cell_type": "markdown",
   "id": "ddb4f2dc",
   "metadata": {},
   "source": [
    "## 3SUM"
   ]
  },
  {
   "cell_type": "code",
   "execution_count": 15,
   "id": "cc23c55a",
   "metadata": {},
   "outputs": [
    {
     "name": "stdout",
     "output_type": "stream",
     "text": [
      "-1,0,1,2,-1,-4\n",
      "(-1, 0, 1)\n",
      "(-1, 0, 2)\n",
      "(-1, 0, -1)\n",
      "(-1, 0, -4)\n",
      "(-1, 1, 2)\n",
      "(-1, 1, -1)\n",
      "(-1, 1, -4)\n",
      "(-1, 2, -1)\n",
      "(-1, 2, -4)\n",
      "(-1, -1, -4)\n",
      "(0, 1, 2)\n",
      "(0, 1, -1)\n",
      "(0, 1, -4)\n",
      "(0, 2, -1)\n",
      "(0, 2, -4)\n",
      "(0, -1, -4)\n",
      "(1, 2, -1)\n",
      "(1, 2, -4)\n",
      "(1, -1, -4)\n",
      "(2, -1, -4)\n"
     ]
    }
   ],
   "source": [
    "from itertools import combinations\n",
    "nums = list(map(int, input().strip().split(\",\")))\n",
    "res = []\n",
    "if len(nums)<3:\n",
    "    print(res)\n",
    "a = combinations(nums, 3)\n",
    "for i in a:\n",
    "    i = list(i)\n",
    "    i "
   ]
  },
  {
   "cell_type": "code",
   "execution_count": 23,
   "id": "03b83739",
   "metadata": {},
   "outputs": [
    {
     "name": "stdout",
     "output_type": "stream",
     "text": [
      "-1,0,1,2,-1,-4\n",
      "{(-1, 0, 1), (-1, 2, -1), (-1, -1, 2), (0, -1, 1), (2, -4, 2), (-1, 1, 0), (2, -1, -1), (1, -1, 0), (0, 1, -1)}\n"
     ]
    }
   ],
   "source": [
    "nums = list(map(int, input().strip().split(\",\")))\n",
    "d = {key:nums.count(key) for key in nums}\n",
    "\n",
    "res = set()\n",
    "for i in range(0,len(nums)):\n",
    "    \n",
    "    for j in range(i+1,len(nums)):\n",
    "        c = -(nums[i]+nums[j])\n",
    "        if c in d:\n",
    "            res.add((nums[i],nums[j],c))\n",
    "print(res)"
   ]
  },
  {
   "cell_type": "code",
   "execution_count": 24,
   "id": "b8e11743",
   "metadata": {},
   "outputs": [
    {
     "data": {
      "text/plain": [
       "{1: 4, 6: 4, 3: 2, 7: 3}"
      ]
     },
     "execution_count": 24,
     "metadata": {},
     "output_type": "execute_result"
    }
   ],
   "source": [
    "d = {1:4,6:4,3:2,7:3}\n",
    "d"
   ]
  },
  {
   "cell_type": "code",
   "execution_count": 28,
   "id": "7b9af426",
   "metadata": {},
   "outputs": [
    {
     "data": {
      "text/plain": [
       "{1, 3, 5, 8, 9, 10, 17, 19, 23, 65}"
      ]
     },
     "execution_count": 28,
     "metadata": {},
     "output_type": "execute_result"
    }
   ],
   "source": [
    "s={3,5,3,8,1,5,9,10,23,65,17,19}\n",
    "s"
   ]
  },
  {
   "cell_type": "code",
   "execution_count": 43,
   "id": "c2d2ab31",
   "metadata": {},
   "outputs": [],
   "source": [
    "s1 = {2,'a','b',0.1,'A',0.3,5,6}"
   ]
  },
  {
   "cell_type": "code",
   "execution_count": 44,
   "id": "21fc5ef6",
   "metadata": {},
   "outputs": [
    {
     "data": {
      "text/plain": [
       "{0.1, 0.3, 2, 5, 6, 'A', 'a', 'b'}"
      ]
     },
     "execution_count": 44,
     "metadata": {},
     "output_type": "execute_result"
    }
   ],
   "source": [
    "s1"
   ]
  },
  {
   "cell_type": "markdown",
   "id": "924a39ba",
   "metadata": {},
   "source": [
    "## 2 Sum"
   ]
  },
  {
   "cell_type": "code",
   "execution_count": null,
   "id": "75cbb12d",
   "metadata": {},
   "outputs": [],
   "source": [
    "nums = list(map(int,input().strip().split()))\n",
    "target = int(input())\n",
    "d = {}\n",
    "for i "
   ]
  },
  {
   "cell_type": "markdown",
   "id": "91011c10",
   "metadata": {},
   "source": [
    "## Arrange given numbers to form the biggest number"
   ]
  },
  {
   "cell_type": "code",
   "execution_count": 1,
   "id": "088bfb4a",
   "metadata": {
    "scrolled": true
   },
   "outputs": [
    {
     "name": "stdout",
     "output_type": "stream",
     "text": [
      "4 34 6 19 91\n",
      "19344691\n"
     ]
    }
   ],
   "source": [
    "from functools import cmp_to_key\n",
    "def compare(a,b):\n",
    "    if a+b > b+a:\n",
    "        return -1\n",
    "    elif a+b < b+a:\n",
    "        return 1\n",
    "\n",
    "arr = list(map(int,input().strip().split()))\n",
    "nums = [str(i) for i in arr] \n",
    "arr = sorted(nums, key=cmp_to_key(compare))\n",
    "ans = int(\"\".join(arr))\n",
    "print(ans)"
   ]
  },
  {
   "cell_type": "code",
   "execution_count": 9,
   "id": "becdc1c9",
   "metadata": {},
   "outputs": [
    {
     "name": "stdout",
     "output_type": "stream",
     "text": [
      "['a', 'e', 't']\n"
     ]
    }
   ],
   "source": [
    "print(sorted(\"ate\"))"
   ]
  },
  {
   "cell_type": "code",
   "execution_count": 26,
   "id": "912cd8d8",
   "metadata": {},
   "outputs": [
    {
     "name": "stdout",
     "output_type": "stream",
     "text": [
      "compare  1  with  2\n",
      "compare  7  with  1\n",
      "compare  7  with  2\n",
      "compare  1  with  2\n",
      "compare  1  with  1\n",
      "[1, 1, 2, 7]\n"
     ]
    }
   ],
   "source": [
    "import functools\n",
    "def mycmp(x, y): \n",
    "    print(\"compare \", x, \" with \", y) \n",
    "    if x > y: \n",
    "        return 1 \n",
    "    elif x < y: \n",
    "        return -1 \n",
    "    else: \n",
    "        return 0\n",
    "    \n",
    "print(sorted([2, 1, 7, 1], key=functools.cmp_to_key(mycmp)))"
   ]
  },
  {
   "cell_type": "code",
   "execution_count": 34,
   "id": "20d5fa3b",
   "metadata": {},
   "outputs": [
    {
     "name": "stdout",
     "output_type": "stream",
     "text": [
      "x:  2 y:  5\n",
      "3\n",
      "x:  4 y:  2\n",
      "-2\n",
      "x:  4 y:  2\n",
      "-2\n",
      "x:  4 y:  5\n",
      "1\n",
      "x:  1 y:  4\n",
      "3\n",
      "x:  1 y:  2\n",
      "1\n",
      "x:  3 y:  2\n",
      "-1\n",
      "x:  3 y:  4\n",
      "1\n"
     ]
    },
    {
     "data": {
      "text/plain": [
       "[5, 4, 3, 2, 1]"
      ]
     },
     "execution_count": 34,
     "metadata": {},
     "output_type": "execute_result"
    }
   ],
   "source": [
    "def reverse_numeric(x, y):\n",
    "    print(\"x: \",x,\"y: \",y)\n",
    "    print(y-x)\n",
    "    return y - x\n",
    "sorted([5, 2,4, 1, 3], key=cmp_to_key(reverse_numeric))"
   ]
  },
  {
   "cell_type": "markdown",
   "id": "c5f15ac8",
   "metadata": {},
   "source": [
    "## 5. Longest Palindromic Substring"
   ]
  },
  {
   "cell_type": "code",
   "execution_count": null,
   "id": "1f79a330",
   "metadata": {},
   "outputs": [],
   "source": [
    "s = input()\n",
    "max_ = 0\n",
    "\n",
    "for "
   ]
  },
  {
   "cell_type": "code",
   "execution_count": 2,
   "id": "57b0726b",
   "metadata": {},
   "outputs": [
    {
     "name": "stdout",
     "output_type": "stream",
     "text": [
      "6\n",
      "A A A B B B\n",
      "2\n",
      "{'A': [0, 1, 2], 'B': [3, 4, 5]}\n"
     ]
    }
   ],
   "source": [
    "n = int(input())\n",
    "l = list(map(str,input().split()))\n",
    "c = int(input())\n",
    "d = {}\n",
    "for i,v in enumerate(l):\n",
    "    if v in d:\n",
    "        d[v].append(i)\n",
    "    else:\n",
    "        d[v] = [i]\n",
    "for "
   ]
  },
  {
   "cell_type": "code",
   "execution_count": 13,
   "id": "f336e85a",
   "metadata": {},
   "outputs": [
    {
     "name": "stdout",
     "output_type": "stream",
     "text": [
      "4\n",
      "6 8 2 1\n",
      "1 1 2 0 2 2 "
     ]
    }
   ],
   "source": [
    "n = int(input())\n",
    "l = list(map(int,input().split()))\n",
    "# for i in range(n):\n",
    "#     ele = int(input())\n",
    "#     l.append(ele)\n",
    "a = l.copy()\n",
    "b = [i for i in reversed(l)]\n",
    "i,j = 0,0\n",
    "# print(l,a,b)\n",
    "while(i!=n and j!=n):\n",
    "    if(a[i] > b[j]):\n",
    "        print(1,end=\" \")\n",
    "        j += 1\n",
    "    elif(a[i] < b[j]):\n",
    "        print(2,end=\" \")\n",
    "        i += 1\n",
    "    else:\n",
    "        print(0,end=\" \")\n",
    "        i+=1\n",
    "        j+=1\n",
    "    \n",
    "    "
   ]
  },
  {
   "cell_type": "markdown",
   "id": "02062e83",
   "metadata": {},
   "source": [
    "## Dynamic Programming"
   ]
  },
  {
   "cell_type": "markdown",
   "id": "e0d3086a",
   "metadata": {},
   "source": [
    "### 1) Knapsack with Duplicate Items"
   ]
  },
  {
   "cell_type": "code",
   "execution_count": 3,
   "id": "83da51ec",
   "metadata": {},
   "outputs": [
    {
     "name": "stdout",
     "output_type": "stream",
     "text": [
      "Enter weight: 5\n",
      "4 3 6 9 2\n",
      "2 4 1 5 6\n",
      "0.3333333333333333\n",
      "0.75\n",
      "1.8\n",
      "2.0\n",
      "6.0\n"
     ]
    }
   ],
   "source": [
    "w = int(input(\"Enter weight: \"))\n",
    "val = list(map(int,input().strip().split()))\n",
    "wt = list(map(int,input().strip().split()))\n",
    "arr = [p/w for p,w in zip(val,wt)]\n"
   ]
  },
  {
   "cell_type": "code",
   "execution_count": null,
   "id": "d319712d",
   "metadata": {},
   "outputs": [],
   "source": []
  }
 ],
 "metadata": {
  "kernelspec": {
   "display_name": "Python 3 (ipykernel)",
   "language": "python",
   "name": "python3"
  },
  "language_info": {
   "codemirror_mode": {
    "name": "ipython",
    "version": 3
   },
   "file_extension": ".py",
   "mimetype": "text/x-python",
   "name": "python",
   "nbconvert_exporter": "python",
   "pygments_lexer": "ipython3",
   "version": "3.9.7"
  }
 },
 "nbformat": 4,
 "nbformat_minor": 5
}
